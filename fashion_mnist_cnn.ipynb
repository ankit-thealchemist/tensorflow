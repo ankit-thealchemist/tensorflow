{
  "nbformat": 4,
  "nbformat_minor": 0,
  "metadata": {
    "colab": {
      "name": "Untitled0.ipynb",
      "provenance": [],
      "collapsed_sections": [],
      "authorship_tag": "ABX9TyPU6HU2E5rrS/6k6CgB0fyr",
      "include_colab_link": true
    },
    "kernelspec": {
      "name": "python3",
      "display_name": "Python 3"
    },
    "accelerator": "GPU"
  },
  "cells": [
    {
      "cell_type": "markdown",
      "metadata": {
        "id": "view-in-github",
        "colab_type": "text"
      },
      "source": [
        "<a href=\"https://colab.research.google.com/github/ankit-thealchemist/tensorflow/blob/main/fashion_mnist_cnn.ipynb\" target=\"_parent\"><img src=\"https://colab.research.google.com/assets/colab-badge.svg\" alt=\"Open In Colab\"/></a>"
      ]
    },
    {
      "cell_type": "code",
      "metadata": {
        "id": "0wvaHuR2ZxkK"
      },
      "source": [
        "import tensorflow as tf\n",
        "from tensorflow import keras\n",
        "from tensorflow.keras import layers, models\n",
        "from tensorflow.keras.models import load_model\n",
        "import os\n",
        "import datetime\n",
        "%load_ext tensorboard\n",
        "!rm -rf ./logs/fit"
      ],
      "execution_count": null,
      "outputs": []
    },
    {
      "cell_type": "code",
      "metadata": {
        "id": "nQ-gtO9ia57z",
        "outputId": "c4406f82-32e3-4353-8770-357913c9180e",
        "colab": {
          "base_uri": "https://localhost:8080/",
          "height": 52
        }
      },
      "source": [
        "print(tf.__version__)\n",
        "print(tf.keras.__version__)"
      ],
      "execution_count": null,
      "outputs": [
        {
          "output_type": "stream",
          "text": [
            "2.3.0\n",
            "2.4.0\n"
          ],
          "name": "stdout"
        }
      ]
    },
    {
      "cell_type": "code",
      "metadata": {
        "id": "nfMGq3WvbL5L"
      },
      "source": [
        "import numpy as np\n",
        "import matplotlib.pyplot as plt\n",
        "fashion_mnist = keras.datasets.fashion_mnist"
      ],
      "execution_count": null,
      "outputs": []
    },
    {
      "cell_type": "code",
      "metadata": {
        "id": "XGlGATDibqYq"
      },
      "source": [
        "(train_images,train_labels) , (test_images,test_labels) = fashion_mnist.load_data()"
      ],
      "execution_count": null,
      "outputs": []
    },
    {
      "cell_type": "code",
      "metadata": {
        "id": "wrf-S8L1cDB0"
      },
      "source": [
        "class_names = ['T-shirt/top', 'Trouser', 'Pullover', 'Dress', 'Coat', \n",
        "               'Sandal', 'Shirt', 'Sneaker', 'Bag', 'Ankle boot']"
      ],
      "execution_count": null,
      "outputs": []
    },
    {
      "cell_type": "code",
      "metadata": {
        "id": "IVEauUzicbhF",
        "outputId": "e6f8ed17-04b3-4902-bd0d-352066013aad",
        "colab": {
          "base_uri": "https://localhost:8080/",
          "height": 35
        }
      },
      "source": [
        "train_images.shape"
      ],
      "execution_count": null,
      "outputs": [
        {
          "output_type": "execute_result",
          "data": {
            "text/plain": [
              "(60000, 28, 28)"
            ]
          },
          "metadata": {
            "tags": []
          },
          "execution_count": 6
        }
      ]
    },
    {
      "cell_type": "code",
      "metadata": {
        "id": "pLJwO6ygcdqJ",
        "outputId": "2eccb92b-2b45-4396-de1b-81c30de809ff",
        "colab": {
          "base_uri": "https://localhost:8080/",
          "height": 35
        }
      },
      "source": [
        "train_labels.shape"
      ],
      "execution_count": null,
      "outputs": [
        {
          "output_type": "execute_result",
          "data": {
            "text/plain": [
              "(60000,)"
            ]
          },
          "metadata": {
            "tags": []
          },
          "execution_count": 7
        }
      ]
    },
    {
      "cell_type": "code",
      "metadata": {
        "id": "dfEoCmAWciu1",
        "outputId": "cf113eea-b0f0-4f5c-bcea-39ad033a7302",
        "colab": {
          "base_uri": "https://localhost:8080/",
          "height": 52
        }
      },
      "source": [
        "plt.figure()"
      ],
      "execution_count": null,
      "outputs": [
        {
          "output_type": "execute_result",
          "data": {
            "text/plain": [
              "<Figure size 432x288 with 0 Axes>"
            ]
          },
          "metadata": {
            "tags": []
          },
          "execution_count": 8
        },
        {
          "output_type": "display_data",
          "data": {
            "text/plain": [
              "<Figure size 432x288 with 0 Axes>"
            ]
          },
          "metadata": {
            "tags": []
          }
        }
      ]
    },
    {
      "cell_type": "code",
      "metadata": {
        "id": "T7ScuEdicosq",
        "outputId": "d817f815-e210-4e31-e625-3ef096402af2",
        "colab": {
          "base_uri": "https://localhost:8080/",
          "height": 283
        }
      },
      "source": [
        "plt.imshow(train_images[221],cmap= plt.cm.binary)\n",
        "train_labels[221]"
      ],
      "execution_count": null,
      "outputs": [
        {
          "output_type": "execute_result",
          "data": {
            "text/plain": [
              "7"
            ]
          },
          "metadata": {
            "tags": []
          },
          "execution_count": 9
        },
        {
          "output_type": "display_data",
          "data": {
            "image/png": "[encoded data removed]",
            "text/plain": [
              "<Figure size 432x288 with 1 Axes>"
            ]
          },
          "metadata": {
            "tags": [],
            "needs_background": "light"
          }
        }
      ]
    },
    {
      "cell_type": "code",
      "metadata": {
        "id": "zkSxfKQ0c5Iu",
        "outputId": "074ecf48-f62f-45e1-e345-4806d1f09d3f",
        "colab": {
          "base_uri": "https://localhost:8080/",
          "height": 35
        }
      },
      "source": [
        "train_images.shape"
      ],
      "execution_count": null,
      "outputs": [
        {
          "output_type": "execute_result",
          "data": {
            "text/plain": [
              "(60000, 28, 28)"
            ]
          },
          "metadata": {
            "tags": []
          },
          "execution_count": 10
        }
      ]
    },
    {
      "cell_type": "code",
      "metadata": {
        "id": "5BKLI7uUGk-y"
      },
      "source": [
        "train_images = train_images.reshape((60000,28,28,1))"
      ],
      "execution_count": null,
      "outputs": []
    },
    {
      "cell_type": "code",
      "metadata": {
        "id": "7bn9ZkPqH07k"
      },
      "source": [
        "test_images = test_images.reshape((10000,28,28,1))"
      ],
      "execution_count": null,
      "outputs": []
    },
    {
      "cell_type": "code",
      "metadata": {
        "id": "AqBk54Q8FHUl"
      },
      "source": [
        "train_images = train_images.astype('float')/255\n",
        "test_images = test_images.astype('float')/255"
      ],
      "execution_count": null,
      "outputs": []
    },
    {
      "cell_type": "code",
      "metadata": {
        "id": "YuLqQtBdIE5f"
      },
      "source": [
        "#now making the model \n",
        "model = keras.Sequential(name = \"fashion_mnist\")\n"
      ],
      "execution_count": null,
      "outputs": []
    },
    {
      "cell_type": "code",
      "metadata": {
        "id": "-FL647ExIhrA"
      },
      "source": [
        "# adding the layer one by one \n",
        "# First convolutional layer. \n",
        "# Number of neurons = 32\n",
        "# filter(kernel) size = 3x3\n",
        "# Activation function = Relu\n",
        "# input data (images) size (height, width, channels) = (28, 28, 1)\n",
        "# Channels is 'colors' here. Since fashion MNIST images are grayscale, number of colors = 1, hence, channels = 1\n",
        "model.add(layers.Conv2D(filters=32,kernel_size=(3,3),activation='relu',input_shape=(28,28,1),))"
      ],
      "execution_count": null,
      "outputs": []
    },
    {
      "cell_type": "code",
      "metadata": {
        "id": "fVrcGg5k19WX",
        "outputId": "e8e02b1c-7680-4d63-973c-926328ed4e63",
        "colab": {
          "base_uri": "https://localhost:8080/",
          "height": 191
        }
      },
      "source": [
        "model.summary()"
      ],
      "execution_count": null,
      "outputs": [
        {
          "output_type": "stream",
          "text": [
            "Model: \"fashion_mnist\"\n",
            "_________________________________________________________________\n",
            "Layer (type)                 Output Shape              Param #   \n",
            "=================================================================\n",
            "conv2d (Conv2D)              (None, 26, 26, 32)        320       \n",
            "=================================================================\n",
            "Total params: 320\n",
            "Trainable params: 320\n",
            "Non-trainable params: 0\n",
            "_________________________________________________________________\n"
          ],
          "name": "stdout"
        }
      ]
    },
    {
      "cell_type": "code",
      "metadata": {
        "id": "kS9AUXF58sxl"
      },
      "source": [
        "model.add(layers.Conv2D(filters=64,kernel_size=(3,3),activation = 'relu'))\n",
        "#adding the max pooling layer\n",
        "model.add(layers.MaxPooling2D((2,2)))\n",
        "#adding the droppout layer for more accuracy\n",
        "#model.add(layers.Dropout(.5))\n",
        "model.add(layers.Conv2D(128,kernel_size=(3,3),activation='relu'))\n",
        "#adding the max pooling layer\n",
        "model.add(layers.MaxPooling2D((2,2)))\n",
        "#adding the droppout layer for more accuracy\n",
        "#model.add(layers.Dropout(.5))"
      ],
      "execution_count": null,
      "outputs": []
    },
    {
      "cell_type": "code",
      "metadata": {
        "id": "gOoDDdZv9bK-",
        "outputId": "91425257-0f43-4fd8-a1a2-926d6b303b6e",
        "colab": {
          "base_uri": "https://localhost:8080/",
          "height": 399
        }
      },
      "source": [
        "model.summary()"
      ],
      "execution_count": null,
      "outputs": [
        {
          "output_type": "stream",
          "text": [
            "Model: \"fashion_mnist\"\n",
            "_________________________________________________________________\n",
            "Layer (type)                 Output Shape              Param #   \n",
            "=================================================================\n",
            "conv2d (Conv2D)              (None, 26, 26, 32)        320       \n",
            "_________________________________________________________________\n",
            "conv2d_1 (Conv2D)            (None, 24, 24, 64)        18496     \n",
            "_________________________________________________________________\n",
            "max_pooling2d (MaxPooling2D) (None, 12, 12, 64)        0         \n",
            "_________________________________________________________________\n",
            "dropout (Dropout)            (None, 12, 12, 64)        0         \n",
            "_________________________________________________________________\n",
            "conv2d_2 (Conv2D)            (None, 10, 10, 128)       73856     \n",
            "_________________________________________________________________\n",
            "max_pooling2d_1 (MaxPooling2 (None, 5, 5, 128)         0         \n",
            "_________________________________________________________________\n",
            "dropout_1 (Dropout)          (None, 5, 5, 128)         0         \n",
            "=================================================================\n",
            "Total params: 92,672\n",
            "Trainable params: 92,672\n",
            "Non-trainable params: 0\n",
            "_________________________________________________________________\n"
          ],
          "name": "stdout"
        }
      ]
    },
    {
      "cell_type": "code",
      "metadata": {
        "id": "0tCqaDoWDS2V",
        "outputId": "32ecaccf-cbe3-4e0b-cba5-b86ffe4788d7",
        "colab": {
          "base_uri": "https://localhost:8080/",
          "height": 399
        }
      },
      "source": [
        "model.summary()"
      ],
      "execution_count": null,
      "outputs": [
        {
          "output_type": "stream",
          "text": [
            "Model: \"fashion_mnist\"\n",
            "_________________________________________________________________\n",
            "Layer (type)                 Output Shape              Param #   \n",
            "=================================================================\n",
            "conv2d (Conv2D)              (None, 26, 26, 32)        320       \n",
            "_________________________________________________________________\n",
            "conv2d_1 (Conv2D)            (None, 24, 24, 64)        18496     \n",
            "_________________________________________________________________\n",
            "max_pooling2d (MaxPooling2D) (None, 12, 12, 64)        0         \n",
            "_________________________________________________________________\n",
            "dropout (Dropout)            (None, 12, 12, 64)        0         \n",
            "_________________________________________________________________\n",
            "conv2d_2 (Conv2D)            (None, 10, 10, 128)       73856     \n",
            "_________________________________________________________________\n",
            "max_pooling2d_1 (MaxPooling2 (None, 5, 5, 128)         0         \n",
            "_________________________________________________________________\n",
            "dropout_1 (Dropout)          (None, 5, 5, 128)         0         \n",
            "=================================================================\n",
            "Total params: 92,672\n",
            "Trainable params: 92,672\n",
            "Non-trainable params: 0\n",
            "_________________________________________________________________\n"
          ],
          "name": "stdout"
        }
      ]
    },
    {
      "cell_type": "code",
      "metadata": {
        "id": "XMIPqySODWeL"
      },
      "source": [
        "#flatting the layer to connect further\n",
        "model.add(layers.Flatten())"
      ],
      "execution_count": null,
      "outputs": []
    },
    {
      "cell_type": "code",
      "metadata": {
        "id": "5oTtotMvDafQ",
        "outputId": "810afc31-a2eb-4583-a08e-935441dfe9a0",
        "colab": {
          "base_uri": "https://localhost:8080/",
          "height": 433
        }
      },
      "source": [
        "model.summary()"
      ],
      "execution_count": null,
      "outputs": [
        {
          "output_type": "stream",
          "text": [
            "Model: \"fashion_mnist\"\n",
            "_________________________________________________________________\n",
            "Layer (type)                 Output Shape              Param #   \n",
            "=================================================================\n",
            "conv2d (Conv2D)              (None, 26, 26, 32)        320       \n",
            "_________________________________________________________________\n",
            "conv2d_1 (Conv2D)            (None, 24, 24, 64)        18496     \n",
            "_________________________________________________________________\n",
            "max_pooling2d (MaxPooling2D) (None, 12, 12, 64)        0         \n",
            "_________________________________________________________________\n",
            "dropout (Dropout)            (None, 12, 12, 64)        0         \n",
            "_________________________________________________________________\n",
            "conv2d_2 (Conv2D)            (None, 10, 10, 128)       73856     \n",
            "_________________________________________________________________\n",
            "max_pooling2d_1 (MaxPooling2 (None, 5, 5, 128)         0         \n",
            "_________________________________________________________________\n",
            "dropout_1 (Dropout)          (None, 5, 5, 128)         0         \n",
            "_________________________________________________________________\n",
            "flatten (Flatten)            (None, 3200)              0         \n",
            "=================================================================\n",
            "Total params: 92,672\n",
            "Trainable params: 92,672\n",
            "Non-trainable params: 0\n",
            "_________________________________________________________________\n"
          ],
          "name": "stdout"
        }
      ]
    },
    {
      "cell_type": "code",
      "metadata": {
        "id": "T3R0yH7SDdDM",
        "outputId": "2dfd673e-73ca-44e3-c209-6437874c5c7c",
        "colab": {
          "base_uri": "https://localhost:8080/",
          "height": 503
        }
      },
      "source": [
        "#Creating the dense layer for further connection \n",
        "model.add(layers.Dense(128,activation='relu'))\n",
        "# Adding the last layer for the classification of the various items adding the softmax activation for the probability distribution \n",
        "\n",
        "model.add(layers.Dense(10, activation='softmax'))\n",
        "model.summary()"
      ],
      "execution_count": null,
      "outputs": [
        {
          "output_type": "stream",
          "text": [
            "Model: \"fashion_mnist\"\n",
            "_________________________________________________________________\n",
            "Layer (type)                 Output Shape              Param #   \n",
            "=================================================================\n",
            "conv2d (Conv2D)              (None, 26, 26, 32)        320       \n",
            "_________________________________________________________________\n",
            "conv2d_1 (Conv2D)            (None, 24, 24, 64)        18496     \n",
            "_________________________________________________________________\n",
            "max_pooling2d (MaxPooling2D) (None, 12, 12, 64)        0         \n",
            "_________________________________________________________________\n",
            "dropout (Dropout)            (None, 12, 12, 64)        0         \n",
            "_________________________________________________________________\n",
            "conv2d_2 (Conv2D)            (None, 10, 10, 128)       73856     \n",
            "_________________________________________________________________\n",
            "max_pooling2d_1 (MaxPooling2 (None, 5, 5, 128)         0         \n",
            "_________________________________________________________________\n",
            "dropout_1 (Dropout)          (None, 5, 5, 128)         0         \n",
            "_________________________________________________________________\n",
            "flatten (Flatten)            (None, 3200)              0         \n",
            "_________________________________________________________________\n",
            "dense (Dense)                (None, 128)               409728    \n",
            "_________________________________________________________________\n",
            "dense_1 (Dense)              (None, 10)                1290      \n",
            "=================================================================\n",
            "Total params: 503,690\n",
            "Trainable params: 503,690\n",
            "Non-trainable params: 0\n",
            "_________________________________________________________________\n"
          ],
          "name": "stdout"
        }
      ]
    },
    {
      "cell_type": "code",
      "metadata": {
        "id": "Q_YfAXYOEN4S",
        "outputId": "da090acc-2763-40d6-a729-4121eeaf3411",
        "colab": {
          "base_uri": "https://localhost:8080/",
          "height": 839
        }
      },
      "source": [
        "model.compile(optimizer='adam',\n",
        "              loss='sparse_categorical_crossentropy',\n",
        "              metrics=['accuracy'])\n",
        "log_dir = \"logs/fit/\" + datetime.datetime.now().strftime(\"%Y%m%d-%H%M%S\")\n",
        "tensorboard_callback = tf.keras.callbacks.TensorBoard(log_dir=log_dir, histogram_freq=1)\n",
        "%tensorboard --logdir logs/fit"
      ],
      "execution_count": null,
      "outputs": []
    },
    {
      "cell_type": "code",
      "metadata": {
        "id": "PjgMUNYhE44D",
        "outputId": "e7f3839a-5d4d-439f-b545-94356df7288b",
        "colab": {
          "base_uri": "https://localhost:8080/",
          "height": 1000
        }
      },
      "source": [
        "#now training the model by shuffeling and validating the data of 10%\n",
        "\n",
        "model.fit(train_images,train_labels,epochs=40,batch_size =  512,shuffle = True,validation_split= 0.1,callbacks=[tensorboard_callback])"
      ],
      "execution_count": null,
      "outputs": [
        {
          "output_type": "stream",
          "text": [
            "Epoch 1/40\n",
            "  1/106 [..............................] - ETA: 0s - loss: 2.3088 - accuracy: 0.0879WARNING:tensorflow:From /usr/local/lib/python3.6/dist-packages/tensorflow/python/ops/summary_ops_v2.py:1277: stop (from tensorflow.python.eager.profiler) is deprecated and will be removed after 2020-07-01.\n",
            "Instructions for updating:\n",
            "use `tf.profiler.experimental.stop` instead.\n",
            "WARNING:tensorflow:Callbacks method `on_train_batch_end` is slow compared to the batch time (batch time: 0.0095s vs `on_train_batch_end` time: 0.0331s). Check your callbacks.\n",
            "106/106 [==============================] - 2s 19ms/step - loss: 0.7765 - accuracy: 0.7105 - val_loss: 0.4877 - val_accuracy: 0.8140\n",
            "Epoch 2/40\n",
            "106/106 [==============================] - 2s 17ms/step - loss: 0.4686 - accuracy: 0.8302 - val_loss: 0.3802 - val_accuracy: 0.8620\n",
            "Epoch 3/40\n",
            "106/106 [==============================] - 2s 16ms/step - loss: 0.3988 - accuracy: 0.8574 - val_loss: 0.3438 - val_accuracy: 0.8737\n",
            "Epoch 4/40\n",
            "106/106 [==============================] - 2s 16ms/step - loss: 0.3582 - accuracy: 0.8696 - val_loss: 0.3175 - val_accuracy: 0.8910\n",
            "Epoch 5/40\n",
            "106/106 [==============================] - 2s 17ms/step - loss: 0.3319 - accuracy: 0.8803 - val_loss: 0.2887 - val_accuracy: 0.8988\n",
            "Epoch 6/40\n",
            "106/106 [==============================] - 2s 17ms/step - loss: 0.3101 - accuracy: 0.8870 - val_loss: 0.2733 - val_accuracy: 0.9047\n",
            "Epoch 7/40\n",
            "106/106 [==============================] - 2s 17ms/step - loss: 0.2936 - accuracy: 0.8926 - val_loss: 0.2621 - val_accuracy: 0.9080\n",
            "Epoch 8/40\n",
            "106/106 [==============================] - 2s 17ms/step - loss: 0.2783 - accuracy: 0.8977 - val_loss: 0.2515 - val_accuracy: 0.9090\n",
            "Epoch 9/40\n",
            "106/106 [==============================] - 2s 16ms/step - loss: 0.2662 - accuracy: 0.9039 - val_loss: 0.2456 - val_accuracy: 0.9113\n",
            "Epoch 10/40\n",
            "106/106 [==============================] - 2s 16ms/step - loss: 0.2565 - accuracy: 0.9053 - val_loss: 0.2468 - val_accuracy: 0.9122\n",
            "Epoch 11/40\n",
            "106/106 [==============================] - 2s 17ms/step - loss: 0.2497 - accuracy: 0.9090 - val_loss: 0.2392 - val_accuracy: 0.9127\n",
            "Epoch 12/40\n",
            "106/106 [==============================] - 2s 16ms/step - loss: 0.2379 - accuracy: 0.9130 - val_loss: 0.2301 - val_accuracy: 0.9183\n",
            "Epoch 13/40\n",
            "106/106 [==============================] - 2s 17ms/step - loss: 0.2312 - accuracy: 0.9146 - val_loss: 0.2255 - val_accuracy: 0.9162\n",
            "Epoch 14/40\n",
            "106/106 [==============================] - 2s 16ms/step - loss: 0.2228 - accuracy: 0.9172 - val_loss: 0.2164 - val_accuracy: 0.9212\n",
            "Epoch 15/40\n",
            "106/106 [==============================] - 2s 17ms/step - loss: 0.2202 - accuracy: 0.9187 - val_loss: 0.2072 - val_accuracy: 0.9223\n",
            "Epoch 16/40\n",
            "106/106 [==============================] - 2s 17ms/step - loss: 0.2126 - accuracy: 0.9217 - val_loss: 0.2139 - val_accuracy: 0.9253\n",
            "Epoch 17/40\n",
            "106/106 [==============================] - 2s 17ms/step - loss: 0.2082 - accuracy: 0.9230 - val_loss: 0.2194 - val_accuracy: 0.9172\n",
            "Epoch 18/40\n",
            "106/106 [==============================] - 2s 16ms/step - loss: 0.2011 - accuracy: 0.9259 - val_loss: 0.2047 - val_accuracy: 0.9258\n",
            "Epoch 19/40\n",
            "106/106 [==============================] - 2s 16ms/step - loss: 0.1981 - accuracy: 0.9267 - val_loss: 0.1993 - val_accuracy: 0.9257\n",
            "Epoch 20/40\n",
            "106/106 [==============================] - 2s 16ms/step - loss: 0.1924 - accuracy: 0.9282 - val_loss: 0.1952 - val_accuracy: 0.9270\n",
            "Epoch 21/40\n",
            "106/106 [==============================] - 2s 17ms/step - loss: 0.1883 - accuracy: 0.9301 - val_loss: 0.1948 - val_accuracy: 0.9290\n",
            "Epoch 22/40\n",
            "106/106 [==============================] - 2s 16ms/step - loss: 0.1832 - accuracy: 0.9311 - val_loss: 0.1976 - val_accuracy: 0.9285\n",
            "Epoch 23/40\n",
            "106/106 [==============================] - 2s 16ms/step - loss: 0.1798 - accuracy: 0.9334 - val_loss: 0.1922 - val_accuracy: 0.9265\n",
            "Epoch 24/40\n",
            "106/106 [==============================] - 2s 16ms/step - loss: 0.1763 - accuracy: 0.9343 - val_loss: 0.1854 - val_accuracy: 0.9315\n",
            "Epoch 25/40\n",
            "106/106 [==============================] - 2s 16ms/step - loss: 0.1694 - accuracy: 0.9373 - val_loss: 0.1835 - val_accuracy: 0.9302\n",
            "Epoch 26/40\n",
            "106/106 [==============================] - 2s 16ms/step - loss: 0.1672 - accuracy: 0.9366 - val_loss: 0.1957 - val_accuracy: 0.9267\n",
            "Epoch 27/40\n",
            "106/106 [==============================] - 2s 16ms/step - loss: 0.1657 - accuracy: 0.9371 - val_loss: 0.1813 - val_accuracy: 0.9333\n",
            "Epoch 28/40\n",
            "106/106 [==============================] - 2s 16ms/step - loss: 0.1610 - accuracy: 0.9390 - val_loss: 0.1784 - val_accuracy: 0.9320\n",
            "Epoch 29/40\n",
            "106/106 [==============================] - 2s 16ms/step - loss: 0.1559 - accuracy: 0.9410 - val_loss: 0.1827 - val_accuracy: 0.9315\n",
            "Epoch 30/40\n",
            "106/106 [==============================] - 2s 17ms/step - loss: 0.1526 - accuracy: 0.9422 - val_loss: 0.1812 - val_accuracy: 0.9343\n",
            "Epoch 31/40\n",
            "106/106 [==============================] - 2s 16ms/step - loss: 0.1507 - accuracy: 0.9447 - val_loss: 0.1836 - val_accuracy: 0.9307\n",
            "Epoch 32/40\n",
            "106/106 [==============================] - 2s 16ms/step - loss: 0.1518 - accuracy: 0.9433 - val_loss: 0.1754 - val_accuracy: 0.9340\n",
            "Epoch 33/40\n",
            "106/106 [==============================] - 2s 17ms/step - loss: 0.1469 - accuracy: 0.9452 - val_loss: 0.1786 - val_accuracy: 0.9308\n",
            "Epoch 34/40\n",
            "106/106 [==============================] - 2s 16ms/step - loss: 0.1403 - accuracy: 0.9475 - val_loss: 0.1836 - val_accuracy: 0.9302\n",
            "Epoch 35/40\n",
            "106/106 [==============================] - 2s 16ms/step - loss: 0.1394 - accuracy: 0.9476 - val_loss: 0.1738 - val_accuracy: 0.9322\n",
            "Epoch 36/40\n",
            "106/106 [==============================] - 2s 17ms/step - loss: 0.1377 - accuracy: 0.9476 - val_loss: 0.1813 - val_accuracy: 0.9330\n",
            "Epoch 37/40\n",
            "106/106 [==============================] - 2s 16ms/step - loss: 0.1351 - accuracy: 0.9488 - val_loss: 0.1804 - val_accuracy: 0.9305\n",
            "Epoch 38/40\n",
            "106/106 [==============================] - 2s 16ms/step - loss: 0.1329 - accuracy: 0.9495 - val_loss: 0.1807 - val_accuracy: 0.9327\n",
            "Epoch 39/40\n",
            "106/106 [==============================] - 2s 16ms/step - loss: 0.1274 - accuracy: 0.9521 - val_loss: 0.1741 - val_accuracy: 0.9343\n",
            "Epoch 40/40\n",
            "106/106 [==============================] - 2s 16ms/step - loss: 0.1279 - accuracy: 0.9522 - val_loss: 0.1741 - val_accuracy: 0.9340\n"
          ],
          "name": "stdout"
        },
        {
          "output_type": "execute_result",
          "data": {
            "text/plain": [
              "<tensorflow.python.keras.callbacks.History at 0x7fb996560208>"
            ]
          },
          "metadata": {
            "tags": []
          },
          "execution_count": 24
        }
      ]
    },
    {
      "cell_type": "code",
      "metadata": {
        "id": "0BxenOoFE4s4",
        "outputId": "ff651488-4701-4287-b852-39b53f630a10",
        "colab": {
          "base_uri": "https://localhost:8080/",
          "height": 35
        }
      },
      "source": [
        "test_loss, test_accuracy = model.evaluate(test_images,test_labels)"
      ],
      "execution_count": null,
      "outputs": [
        {
          "output_type": "stream",
          "text": [
            "313/313 [==============================] - 1s 2ms/step - loss: 0.1925 - accuracy: 0.9332\n"
          ],
          "name": "stdout"
        }
      ]
    },
    {
      "cell_type": "code",
      "metadata": {
        "id": "RN9H0pxDHhxn"
      },
      "source": [
        ""
      ],
      "execution_count": null,
      "outputs": []
    }
  ]
}