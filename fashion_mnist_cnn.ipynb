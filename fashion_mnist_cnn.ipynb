{
  "nbformat": 4,
  "nbformat_minor": 0,
  "metadata": {
    "colab": {
      "name": "Untitled0.ipynb",
      "provenance": [],
      "collapsed_sections": [],
      "authorship_tag": "ABX9TyP1jxiuRCDh/l52+IaR+bgq",
      "include_colab_link": true
    },
    "kernelspec": {
      "name": "python3",
      "display_name": "Python 3"
    },
    "accelerator": "GPU"
  },
  "cells": [
    {
      "cell_type": "markdown",
      "metadata": {
        "id": "view-in-github",
        "colab_type": "text"
      },
      "source": [
        "<a href=\"https://colab.research.google.com/github/ankit-thealchemist/tensorflow/blob/main/fashion_mnist_cnn.ipynb\" target=\"_parent\"><img src=\"https://colab.research.google.com/assets/colab-badge.svg\" alt=\"Open In Colab\"/></a>"
      ]
    },
    {
      "cell_type": "code",
      "metadata": {
        "id": "0wvaHuR2ZxkK"
      },
      "source": [
        "import tensorflow as tf\n",
        "from tensorflow import keras\n",
        "from tensorflow.keras import layers, models\n",
        "from tensorflow.keras.models import load_model\n",
        "import os\n",
        "import datetime\n",
        "#%load_ext tensorboard\n",
        "#!rm -rf ./logs/fit"
      ],
      "execution_count": 1,
      "outputs": []
    },
    {
      "cell_type": "code",
      "metadata": {
        "id": "nQ-gtO9ia57z",
        "outputId": "f10a86c9-05ea-4e86-c291-5de65139f7bb",
        "colab": {
          "base_uri": "https://localhost:8080/",
          "height": 51
        }
      },
      "source": [
        "print(tf.__version__)\n",
        "print(tf.keras.__version__)"
      ],
      "execution_count": 2,
      "outputs": [
        {
          "output_type": "stream",
          "text": [
            "2.3.0\n",
            "2.4.0\n"
          ],
          "name": "stdout"
        }
      ]
    },
    {
      "cell_type": "code",
      "metadata": {
        "id": "nfMGq3WvbL5L"
      },
      "source": [
        "import numpy as np\n",
        "import matplotlib.pyplot as plt\n",
        "fashion_mnist = keras.datasets.fashion_mnist"
      ],
      "execution_count": 3,
      "outputs": []
    },
    {
      "cell_type": "code",
      "metadata": {
        "id": "XGlGATDibqYq"
      },
      "source": [
        "(train_images,train_labels) , (test_images,test_labels) = fashion_mnist.load_data()"
      ],
      "execution_count": 4,
      "outputs": []
    },
    {
      "cell_type": "code",
      "metadata": {
        "id": "wrf-S8L1cDB0"
      },
      "source": [
        "class_names = ['T-shirt/top', 'Trouser', 'Pullover', 'Dress', 'Coat', \n",
        "               'Sandal', 'Shirt', 'Sneaker', 'Bag', 'Ankle boot']"
      ],
      "execution_count": 5,
      "outputs": []
    },
    {
      "cell_type": "code",
      "metadata": {
        "id": "IVEauUzicbhF",
        "outputId": "7dea5e87-fdba-41c7-903a-3228db5d21c5",
        "colab": {
          "base_uri": "https://localhost:8080/",
          "height": 34
        }
      },
      "source": [
        "train_images.shape"
      ],
      "execution_count": 6,
      "outputs": [
        {
          "output_type": "execute_result",
          "data": {
            "text/plain": [
              "(60000, 28, 28)"
            ]
          },
          "metadata": {
            "tags": []
          },
          "execution_count": 6
        }
      ]
    },
    {
      "cell_type": "code",
      "metadata": {
        "id": "pLJwO6ygcdqJ",
        "outputId": "d375a285-ba73-477f-b435-e021a89bbd0d",
        "colab": {
          "base_uri": "https://localhost:8080/",
          "height": 34
        }
      },
      "source": [
        "train_labels.shape"
      ],
      "execution_count": 7,
      "outputs": [
        {
          "output_type": "execute_result",
          "data": {
            "text/plain": [
              "(60000,)"
            ]
          },
          "metadata": {
            "tags": []
          },
          "execution_count": 7
        }
      ]
    },
    {
      "cell_type": "code",
      "metadata": {
        "id": "dfEoCmAWciu1",
        "outputId": "ec069164-4079-4ec0-c52a-aba29735b6c1",
        "colab": {
          "base_uri": "https://localhost:8080/",
          "height": 51
        }
      },
      "source": [
        "plt.figure()"
      ],
      "execution_count": 8,
      "outputs": [
        {
          "output_type": "execute_result",
          "data": {
            "text/plain": [
              "<Figure size 432x288 with 0 Axes>"
            ]
          },
          "metadata": {
            "tags": []
          },
          "execution_count": 8
        },
        {
          "output_type": "display_data",
          "data": {
            "text/plain": [
              "<Figure size 432x288 with 0 Axes>"
            ]
          },
          "metadata": {
            "tags": []
          }
        }
      ]
    },
    {
      "cell_type": "code",
      "metadata": {
        "id": "T7ScuEdicosq",
        "outputId": "4b025d65-48e2-4d90-a3d4-c646da1fc63c",
        "colab": {
          "base_uri": "https://localhost:8080/",
          "height": 282
        }
      },
      "source": [
        "plt.imshow(train_images[221],cmap= plt.cm.binary)\n",
        "train_labels[221]"
      ],
      "execution_count": 9,
      "outputs": [
        {
          "output_type": "execute_result",
          "data": {
            "text/plain": [
              "7"
            ]
          },
          "metadata": {
            "tags": []
          },
          "execution_count": 9
        },
        {
          "output_type": "display_data",
          "data": {
            "image/png": "[encoded data removed]",
            "text/plain": [
              "<Figure size 432x288 with 1 Axes>"
            ]
          },
          "metadata": {
            "tags": [],
            "needs_background": "light"
          }
        }
      ]
    },
    {
      "cell_type": "code",
      "metadata": {
        "id": "zkSxfKQ0c5Iu",
        "outputId": "a8a9173e-b74d-444f-b115-5cf376f7b1c3",
        "colab": {
          "base_uri": "https://localhost:8080/",
          "height": 34
        }
      },
      "source": [
        "train_images.shape"
      ],
      "execution_count": 10,
      "outputs": [
        {
          "output_type": "execute_result",
          "data": {
            "text/plain": [
              "(60000, 28, 28)"
            ]
          },
          "metadata": {
            "tags": []
          },
          "execution_count": 10
        }
      ]
    },
    {
      "cell_type": "code",
      "metadata": {
        "id": "5BKLI7uUGk-y"
      },
      "source": [
        "train_images = train_images.reshape((60000,28,28,1))"
      ],
      "execution_count": 11,
      "outputs": []
    },
    {
      "cell_type": "code",
      "metadata": {
        "id": "7bn9ZkPqH07k"
      },
      "source": [
        "test_images = test_images.reshape((10000,28,28,1))"
      ],
      "execution_count": 12,
      "outputs": []
    },
    {
      "cell_type": "code",
      "metadata": {
        "id": "AqBk54Q8FHUl"
      },
      "source": [
        "train_images = train_images.astype('float')/255\n",
        "test_images = test_images.astype('float')/255"
      ],
      "execution_count": 13,
      "outputs": []
    },
    {
      "cell_type": "code",
      "metadata": {
        "id": "YuLqQtBdIE5f"
      },
      "source": [
        "#now making the model \n",
        "model = keras.Sequential(name = \"fashion_mnist\")\n"
      ],
      "execution_count": 14,
      "outputs": []
    },
    {
      "cell_type": "code",
      "metadata": {
        "id": "-FL647ExIhrA"
      },
      "source": [
        "# adding the layer one by one \n",
        "# First convolutional layer. \n",
        "# Number of neurons = 32\n",
        "# filter(kernel) size = 3x3\n",
        "# Activation function = Relu\n",
        "# input data (images) size (height, width, channels) = (28, 28, 1)\n",
        "# Channels is 'colors' here. Since fashion MNIST images are grayscale, number of colors = 1, hence, channels = 1\n",
        "model.add(layers.Conv2D(filters=32,kernel_size=(3,3),activation='relu',input_shape=(28,28,1),))"
      ],
      "execution_count": 15,
      "outputs": []
    },
    {
      "cell_type": "code",
      "metadata": {
        "id": "fVrcGg5k19WX",
        "outputId": "1c7b478e-058b-4ac4-cc28-9f512c44c7ac",
        "colab": {
          "base_uri": "https://localhost:8080/",
          "height": 187
        }
      },
      "source": [
        "model.summary()"
      ],
      "execution_count": 16,
      "outputs": [
        {
          "output_type": "stream",
          "text": [
            "Model: \"fashion_mnist\"\n",
            "_________________________________________________________________\n",
            "Layer (type)                 Output Shape              Param #   \n",
            "=================================================================\n",
            "conv2d (Conv2D)              (None, 26, 26, 32)        320       \n",
            "=================================================================\n",
            "Total params: 320\n",
            "Trainable params: 320\n",
            "Non-trainable params: 0\n",
            "_________________________________________________________________\n"
          ],
          "name": "stdout"
        }
      ]
    },
    {
      "cell_type": "code",
      "metadata": {
        "id": "kS9AUXF58sxl"
      },
      "source": [
        "model.add(layers.Conv2D(filters=64,kernel_size=(3,3),activation = 'relu'))\n",
        "#adding the max pooling layer\n",
        "model.add(layers.MaxPooling2D((2,2)))\n",
        "#adding the droppout layer for more accuracy\n",
        "model.add(layers.Dropout(.5))\n",
        "model.add(layers.Conv2D(128,kernel_size=(3,3),activation='relu'))\n",
        "#adding the max pooling layer\n",
        "model.add(layers.MaxPooling2D((2,2)))\n",
        "#adding the droppout layer for more accuracy\n",
        "model.add(layers.Dropout(.5))"
      ],
      "execution_count": 17,
      "outputs": []
    },
    {
      "cell_type": "code",
      "metadata": {
        "id": "gOoDDdZv9bK-",
        "outputId": "25ae1979-bcb5-4b3b-bcd7-26bc0ce824db",
        "colab": {
          "base_uri": "https://localhost:8080/",
          "height": 323
        }
      },
      "source": [
        "model.summary()"
      ],
      "execution_count": 18,
      "outputs": [
        {
          "output_type": "stream",
          "text": [
            "Model: \"fashion_mnist\"\n",
            "_________________________________________________________________\n",
            "Layer (type)                 Output Shape              Param #   \n",
            "=================================================================\n",
            "conv2d (Conv2D)              (None, 26, 26, 32)        320       \n",
            "_________________________________________________________________\n",
            "conv2d_1 (Conv2D)            (None, 24, 24, 64)        18496     \n",
            "_________________________________________________________________\n",
            "max_pooling2d (MaxPooling2D) (None, 12, 12, 64)        0         \n",
            "_________________________________________________________________\n",
            "conv2d_2 (Conv2D)            (None, 10, 10, 128)       73856     \n",
            "_________________________________________________________________\n",
            "max_pooling2d_1 (MaxPooling2 (None, 5, 5, 128)         0         \n",
            "=================================================================\n",
            "Total params: 92,672\n",
            "Trainable params: 92,672\n",
            "Non-trainable params: 0\n",
            "_________________________________________________________________\n"
          ],
          "name": "stdout"
        }
      ]
    },
    {
      "cell_type": "code",
      "metadata": {
        "id": "0tCqaDoWDS2V",
        "outputId": "97ea1b9c-369d-4119-b4da-514b0dda53fb",
        "colab": {
          "base_uri": "https://localhost:8080/",
          "height": 323
        }
      },
      "source": [
        "model.summary()"
      ],
      "execution_count": 19,
      "outputs": [
        {
          "output_type": "stream",
          "text": [
            "Model: \"fashion_mnist\"\n",
            "_________________________________________________________________\n",
            "Layer (type)                 Output Shape              Param #   \n",
            "=================================================================\n",
            "conv2d (Conv2D)              (None, 26, 26, 32)        320       \n",
            "_________________________________________________________________\n",
            "conv2d_1 (Conv2D)            (None, 24, 24, 64)        18496     \n",
            "_________________________________________________________________\n",
            "max_pooling2d (MaxPooling2D) (None, 12, 12, 64)        0         \n",
            "_________________________________________________________________\n",
            "conv2d_2 (Conv2D)            (None, 10, 10, 128)       73856     \n",
            "_________________________________________________________________\n",
            "max_pooling2d_1 (MaxPooling2 (None, 5, 5, 128)         0         \n",
            "=================================================================\n",
            "Total params: 92,672\n",
            "Trainable params: 92,672\n",
            "Non-trainable params: 0\n",
            "_________________________________________________________________\n"
          ],
          "name": "stdout"
        }
      ]
    },
    {
      "cell_type": "code",
      "metadata": {
        "id": "XMIPqySODWeL"
      },
      "source": [
        "#flatting the layer to connect further\n",
        "model.add(layers.Flatten())"
      ],
      "execution_count": 20,
      "outputs": []
    },
    {
      "cell_type": "code",
      "metadata": {
        "id": "5oTtotMvDafQ",
        "outputId": "3507eecc-c2ba-40b8-c14f-5b6984a2281c",
        "colab": {
          "base_uri": "https://localhost:8080/",
          "height": 357
        }
      },
      "source": [
        "model.summary()"
      ],
      "execution_count": 21,
      "outputs": [
        {
          "output_type": "stream",
          "text": [
            "Model: \"fashion_mnist\"\n",
            "_________________________________________________________________\n",
            "Layer (type)                 Output Shape              Param #   \n",
            "=================================================================\n",
            "conv2d (Conv2D)              (None, 26, 26, 32)        320       \n",
            "_________________________________________________________________\n",
            "conv2d_1 (Conv2D)            (None, 24, 24, 64)        18496     \n",
            "_________________________________________________________________\n",
            "max_pooling2d (MaxPooling2D) (None, 12, 12, 64)        0         \n",
            "_________________________________________________________________\n",
            "conv2d_2 (Conv2D)            (None, 10, 10, 128)       73856     \n",
            "_________________________________________________________________\n",
            "max_pooling2d_1 (MaxPooling2 (None, 5, 5, 128)         0         \n",
            "_________________________________________________________________\n",
            "flatten (Flatten)            (None, 3200)              0         \n",
            "=================================================================\n",
            "Total params: 92,672\n",
            "Trainable params: 92,672\n",
            "Non-trainable params: 0\n",
            "_________________________________________________________________\n"
          ],
          "name": "stdout"
        }
      ]
    },
    {
      "cell_type": "code",
      "metadata": {
        "id": "T3R0yH7SDdDM",
        "outputId": "bd14ddef-347d-4315-ebca-03a548e84563",
        "colab": {
          "base_uri": "https://localhost:8080/",
          "height": 425
        }
      },
      "source": [
        "#Creating the dense layer for further connection \n",
        "model.add(layers.Dense(512,activation='relu'))\n",
        "# Adding the last layer for the classification of the various items adding the softmax activation for the probability distribution \n",
        "model.add(layers.Dropout(.5))\n",
        "model.add(layers.Dense(512,activation='relu'))\n",
        "model.add(layers.Dense(10, activation='softmax'))\n",
        "model.summary()"
      ],
      "execution_count": 22,
      "outputs": [
        {
          "output_type": "stream",
          "text": [
            "Model: \"fashion_mnist\"\n",
            "_________________________________________________________________\n",
            "Layer (type)                 Output Shape              Param #   \n",
            "=================================================================\n",
            "conv2d (Conv2D)              (None, 26, 26, 32)        320       \n",
            "_________________________________________________________________\n",
            "conv2d_1 (Conv2D)            (None, 24, 24, 64)        18496     \n",
            "_________________________________________________________________\n",
            "max_pooling2d (MaxPooling2D) (None, 12, 12, 64)        0         \n",
            "_________________________________________________________________\n",
            "conv2d_2 (Conv2D)            (None, 10, 10, 128)       73856     \n",
            "_________________________________________________________________\n",
            "max_pooling2d_1 (MaxPooling2 (None, 5, 5, 128)         0         \n",
            "_________________________________________________________________\n",
            "flatten (Flatten)            (None, 3200)              0         \n",
            "_________________________________________________________________\n",
            "dense (Dense)                (None, 128)               409728    \n",
            "_________________________________________________________________\n",
            "dense_1 (Dense)              (None, 10)                1290      \n",
            "=================================================================\n",
            "Total params: 503,690\n",
            "Trainable params: 503,690\n",
            "Non-trainable params: 0\n",
            "_________________________________________________________________\n"
          ],
          "name": "stdout"
        }
      ]
    },
    {
      "cell_type": "code",
      "metadata": {
        "id": "Q_YfAXYOEN4S"
      },
      "source": [
        "model.compile(optimizer='adam',\n",
        "              loss='sparse_categorical_crossentropy',\n",
        "              metrics=['accuracy'])\n",
        "log_dir = \"logs/fit/\" + datetime.datetime.now().strftime(\"%Y%m%d-%H%M%S\")\n",
        "#tensorboard_callback = tf.keras.callbacks.TensorBoard(log_dir=log_dir, histogram_freq=1)\n",
        "#%tensorboard --logdir logs/fit"
      ],
      "execution_count": 23,
      "outputs": []
    },
    {
      "cell_type": "code",
      "metadata": {
        "id": "PjgMUNYhE44D",
        "outputId": "f60eb72d-7c78-4115-e0b6-6df4e43fd1b7",
        "colab": {
          "base_uri": "https://localhost:8080/",
          "height": 1000
        }
      },
      "source": [
        "#now training the model by shuffeling and validating the data of 10%\n",
        "\n",
        "model.fit(train_images,train_labels,epochs=40,batch_size =  512,shuffle = True,validation_split= 0.1)"
      ],
      "execution_count": 24,
      "outputs": [
        {
          "output_type": "stream",
          "text": [
            "Epoch 1/40\n",
            "106/106 [==============================] - 2s 18ms/step - loss: 0.7137 - accuracy: 0.7380 - val_loss: 0.4404 - val_accuracy: 0.8397\n",
            "Epoch 2/40\n",
            "106/106 [==============================] - 2s 15ms/step - loss: 0.3851 - accuracy: 0.8614 - val_loss: 0.3620 - val_accuracy: 0.8687\n",
            "Epoch 3/40\n",
            "106/106 [==============================] - 2s 15ms/step - loss: 0.3229 - accuracy: 0.8837 - val_loss: 0.3102 - val_accuracy: 0.8840\n",
            "Epoch 4/40\n",
            "106/106 [==============================] - 2s 15ms/step - loss: 0.2834 - accuracy: 0.8981 - val_loss: 0.2852 - val_accuracy: 0.8968\n",
            "Epoch 5/40\n",
            "106/106 [==============================] - 2s 15ms/step - loss: 0.2555 - accuracy: 0.9080 - val_loss: 0.2647 - val_accuracy: 0.9033\n",
            "Epoch 6/40\n",
            "106/106 [==============================] - 2s 15ms/step - loss: 0.2326 - accuracy: 0.9166 - val_loss: 0.2633 - val_accuracy: 0.9042\n",
            "Epoch 7/40\n",
            "106/106 [==============================] - 2s 15ms/step - loss: 0.2172 - accuracy: 0.9213 - val_loss: 0.2382 - val_accuracy: 0.9153\n",
            "Epoch 8/40\n",
            "106/106 [==============================] - 2s 15ms/step - loss: 0.2027 - accuracy: 0.9261 - val_loss: 0.2658 - val_accuracy: 0.9017\n",
            "Epoch 9/40\n",
            "106/106 [==============================] - 2s 15ms/step - loss: 0.1841 - accuracy: 0.9328 - val_loss: 0.2341 - val_accuracy: 0.9168\n",
            "Epoch 10/40\n",
            "106/106 [==============================] - 2s 15ms/step - loss: 0.1729 - accuracy: 0.9364 - val_loss: 0.2146 - val_accuracy: 0.9240\n",
            "Epoch 11/40\n",
            "106/106 [==============================] - 2s 15ms/step - loss: 0.1586 - accuracy: 0.9415 - val_loss: 0.2151 - val_accuracy: 0.9232\n",
            "Epoch 12/40\n",
            "106/106 [==============================] - 2s 15ms/step - loss: 0.1500 - accuracy: 0.9449 - val_loss: 0.2288 - val_accuracy: 0.9165\n",
            "Epoch 13/40\n",
            "106/106 [==============================] - 2s 15ms/step - loss: 0.1367 - accuracy: 0.9510 - val_loss: 0.2123 - val_accuracy: 0.9235\n",
            "Epoch 14/40\n",
            "106/106 [==============================] - 2s 15ms/step - loss: 0.1227 - accuracy: 0.9548 - val_loss: 0.2291 - val_accuracy: 0.9187\n",
            "Epoch 15/40\n",
            "106/106 [==============================] - 2s 15ms/step - loss: 0.1198 - accuracy: 0.9567 - val_loss: 0.2202 - val_accuracy: 0.9252\n",
            "Epoch 16/40\n",
            "106/106 [==============================] - 2s 15ms/step - loss: 0.0998 - accuracy: 0.9642 - val_loss: 0.2352 - val_accuracy: 0.9200\n",
            "Epoch 17/40\n",
            "106/106 [==============================] - 2s 15ms/step - loss: 0.0948 - accuracy: 0.9663 - val_loss: 0.2406 - val_accuracy: 0.9232\n",
            "Epoch 18/40\n",
            "106/106 [==============================] - 2s 15ms/step - loss: 0.0849 - accuracy: 0.9696 - val_loss: 0.2517 - val_accuracy: 0.9188\n",
            "Epoch 19/40\n",
            "106/106 [==============================] - 2s 15ms/step - loss: 0.0732 - accuracy: 0.9746 - val_loss: 0.2514 - val_accuracy: 0.9223\n",
            "Epoch 20/40\n",
            "106/106 [==============================] - 2s 15ms/step - loss: 0.0653 - accuracy: 0.9772 - val_loss: 0.2576 - val_accuracy: 0.9232\n",
            "Epoch 21/40\n",
            "106/106 [==============================] - 2s 15ms/step - loss: 0.0605 - accuracy: 0.9781 - val_loss: 0.2713 - val_accuracy: 0.9235\n",
            "Epoch 22/40\n",
            "106/106 [==============================] - 2s 15ms/step - loss: 0.0513 - accuracy: 0.9821 - val_loss: 0.2830 - val_accuracy: 0.9220\n",
            "Epoch 23/40\n",
            "106/106 [==============================] - 2s 15ms/step - loss: 0.0467 - accuracy: 0.9838 - val_loss: 0.2907 - val_accuracy: 0.9235\n",
            "Epoch 24/40\n",
            "106/106 [==============================] - 2s 15ms/step - loss: 0.0387 - accuracy: 0.9869 - val_loss: 0.3008 - val_accuracy: 0.9218\n",
            "Epoch 25/40\n",
            "106/106 [==============================] - 2s 15ms/step - loss: 0.0341 - accuracy: 0.9886 - val_loss: 0.3507 - val_accuracy: 0.9120\n",
            "Epoch 26/40\n",
            "106/106 [==============================] - 2s 15ms/step - loss: 0.0323 - accuracy: 0.9886 - val_loss: 0.3402 - val_accuracy: 0.9182\n",
            "Epoch 27/40\n",
            "106/106 [==============================] - 2s 15ms/step - loss: 0.0289 - accuracy: 0.9900 - val_loss: 0.3438 - val_accuracy: 0.9182\n",
            "Epoch 28/40\n",
            "106/106 [==============================] - 2s 15ms/step - loss: 0.0288 - accuracy: 0.9903 - val_loss: 0.3476 - val_accuracy: 0.9225\n",
            "Epoch 29/40\n",
            "106/106 [==============================] - 2s 15ms/step - loss: 0.0251 - accuracy: 0.9913 - val_loss: 0.3659 - val_accuracy: 0.9218\n",
            "Epoch 30/40\n",
            "106/106 [==============================] - 2s 15ms/step - loss: 0.0183 - accuracy: 0.9940 - val_loss: 0.4218 - val_accuracy: 0.9158\n",
            "Epoch 31/40\n",
            "106/106 [==============================] - 2s 15ms/step - loss: 0.0157 - accuracy: 0.9949 - val_loss: 0.4544 - val_accuracy: 0.9168\n",
            "Epoch 32/40\n",
            "106/106 [==============================] - 2s 15ms/step - loss: 0.0221 - accuracy: 0.9919 - val_loss: 0.4200 - val_accuracy: 0.9187\n",
            "Epoch 33/40\n",
            "106/106 [==============================] - 2s 15ms/step - loss: 0.0224 - accuracy: 0.9923 - val_loss: 0.4835 - val_accuracy: 0.9123\n",
            "Epoch 34/40\n",
            "106/106 [==============================] - 2s 15ms/step - loss: 0.0231 - accuracy: 0.9925 - val_loss: 0.4115 - val_accuracy: 0.9173\n",
            "Epoch 35/40\n",
            "106/106 [==============================] - 2s 15ms/step - loss: 0.0106 - accuracy: 0.9969 - val_loss: 0.4732 - val_accuracy: 0.9182\n",
            "Epoch 36/40\n",
            "106/106 [==============================] - 2s 15ms/step - loss: 0.0062 - accuracy: 0.9985 - val_loss: 0.4643 - val_accuracy: 0.9200\n",
            "Epoch 37/40\n",
            "106/106 [==============================] - 2s 15ms/step - loss: 0.0063 - accuracy: 0.9983 - val_loss: 0.4833 - val_accuracy: 0.9183\n",
            "Epoch 38/40\n",
            "106/106 [==============================] - 2s 15ms/step - loss: 0.0046 - accuracy: 0.9990 - val_loss: 0.5018 - val_accuracy: 0.9180\n",
            "Epoch 39/40\n",
            "106/106 [==============================] - 2s 15ms/step - loss: 0.0052 - accuracy: 0.9987 - val_loss: 0.5258 - val_accuracy: 0.9175\n",
            "Epoch 40/40\n",
            "106/106 [==============================] - 2s 15ms/step - loss: 0.0173 - accuracy: 0.9940 - val_loss: 0.4534 - val_accuracy: 0.9177\n"
          ],
          "name": "stdout"
        },
        {
          "output_type": "execute_result",
          "data": {
            "text/plain": [
              "<tensorflow.python.keras.callbacks.History at 0x7f97dc0f07f0>"
            ]
          },
          "metadata": {
            "tags": []
          },
          "execution_count": 24
        }
      ]
    },
    {
      "cell_type": "code",
      "metadata": {
        "id": "0BxenOoFE4s4",
        "outputId": "6ae99d4f-5af3-4128-d02e-90b21a6ccce8",
        "colab": {
          "base_uri": "https://localhost:8080/",
          "height": 34
        }
      },
      "source": [
        "test_loss, test_accuracy = model.evaluate(test_images,test_labels)"
      ],
      "execution_count": 25,
      "outputs": [
        {
          "output_type": "stream",
          "text": [
            "313/313 [==============================] - 1s 2ms/step - loss: 0.4870 - accuracy: 0.9134\n"
          ],
          "name": "stdout"
        }
      ]
    },
    {
      "cell_type": "code",
      "metadata": {
        "id": "RN9H0pxDHhxn"
      },
      "source": [
        ""
      ],
      "execution_count": 25,
      "outputs": []
    }
  ]
}