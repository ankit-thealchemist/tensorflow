{
  "nbformat": 4,
  "nbformat_minor": 0,
  "metadata": {
    "colab": {
      "name": "fashion_mnist.ipynb",
      "provenance": [],
      "collapsed_sections": [],
      "authorship_tag": "ABX9TyNulAn8dTNWWVbv+h7LRl/p",
      "include_colab_link": true
    },
    "kernelspec": {
      "name": "python3",
      "display_name": "Python 3"
    },
    "accelerator": "GPU"
  },
  "cells": [
    {
      "cell_type": "markdown",
      "metadata": {
        "id": "view-in-github",
        "colab_type": "text"
      },
      "source": [
        "<a href=\"https://colab.research.google.com/github/ankit-thealchemist/tensorflow/blob/main/fashion_mnist.ipynb\" target=\"_parent\"><img src=\"https://colab.research.google.com/assets/colab-badge.svg\" alt=\"Open In Colab\"/></a>"
      ]
    },
    {
      "cell_type": "code",
      "metadata": {
        "id": "0wvaHuR2ZxkK"
      },
      "source": [
        "import tensorflow as tf\n",
        "from tensorflow import keras\n",
        "from tensorflow.keras import layers, models\n",
        "from tensorflow.keras.models import load_model\n",
        "import os\n",
        "import datetime\n",
        "#%load_ext tensorboard\n",
        "#!rm -rf ./logs/fit"
      ],
      "execution_count": 1,
      "outputs": []
    },
    {
      "cell_type": "code",
      "metadata": {
        "id": "nQ-gtO9ia57z",
        "outputId": "47ff0c9d-77e7-4d5e-d22d-be4b2ea08948",
        "colab": {
          "base_uri": "https://localhost:8080/"
        }
      },
      "source": [
        "print(tf.__version__)\n",
        "print(tf.keras.__version__)"
      ],
      "execution_count": 2,
      "outputs": [
        {
          "output_type": "stream",
          "text": [
            "2.3.0\n",
            "2.4.0\n"
          ],
          "name": "stdout"
        }
      ]
    },
    {
      "cell_type": "code",
      "metadata": {
        "id": "nfMGq3WvbL5L"
      },
      "source": [
        "import numpy as np\n",
        "import matplotlib.pyplot as plt\n",
        "fashion_mnist = keras.datasets.fashion_mnist"
      ],
      "execution_count": 3,
      "outputs": []
    },
    {
      "cell_type": "code",
      "metadata": {
        "id": "XGlGATDibqYq"
      },
      "source": [
        "(train_images,train_labels) , (test_images,test_labels) = fashion_mnist.load_data()"
      ],
      "execution_count": 4,
      "outputs": []
    },
    {
      "cell_type": "code",
      "metadata": {
        "id": "wrf-S8L1cDB0"
      },
      "source": [
        "class_names = ['T-shirt/top', 'Trouser', 'Pullover', 'Dress', 'Coat', \n",
        "               'Sandal', 'Shirt', 'Sneaker', 'Bag', 'Ankle boot']"
      ],
      "execution_count": 5,
      "outputs": []
    },
    {
      "cell_type": "code",
      "metadata": {
        "id": "IVEauUzicbhF",
        "outputId": "e685c061-c69c-4f3d-bf7c-376930d8dd1a",
        "colab": {
          "base_uri": "https://localhost:8080/"
        }
      },
      "source": [
        "train_images.shape"
      ],
      "execution_count": 6,
      "outputs": [
        {
          "output_type": "execute_result",
          "data": {
            "text/plain": [
              "(60000, 28, 28)"
            ]
          },
          "metadata": {
            "tags": []
          },
          "execution_count": 6
        }
      ]
    },
    {
      "cell_type": "code",
      "metadata": {
        "id": "pLJwO6ygcdqJ",
        "outputId": "e0dd25a9-71f2-442b-bcbb-6d52b9497f2a",
        "colab": {
          "base_uri": "https://localhost:8080/"
        }
      },
      "source": [
        "train_labels.shape"
      ],
      "execution_count": 7,
      "outputs": [
        {
          "output_type": "execute_result",
          "data": {
            "text/plain": [
              "(60000,)"
            ]
          },
          "metadata": {
            "tags": []
          },
          "execution_count": 7
        }
      ]
    },
    {
      "cell_type": "code",
      "metadata": {
        "id": "dfEoCmAWciu1",
        "outputId": "f9f5bd83-9562-4784-d650-7aa3fab17376",
        "colab": {
          "base_uri": "https://localhost:8080/",
          "height": 52
        }
      },
      "source": [
        "plt.figure()"
      ],
      "execution_count": 8,
      "outputs": [
        {
          "output_type": "execute_result",
          "data": {
            "text/plain": [
              "<Figure size 432x288 with 0 Axes>"
            ]
          },
          "metadata": {
            "tags": []
          },
          "execution_count": 8
        },
        {
          "output_type": "display_data",
          "data": {
            "text/plain": [
              "<Figure size 432x288 with 0 Axes>"
            ]
          },
          "metadata": {
            "tags": []
          }
        }
      ]
    },
    {
      "cell_type": "code",
      "metadata": {
        "id": "T7ScuEdicosq",
        "outputId": "62cec87e-85b0-4e69-f202-3587eccddae8",
        "colab": {
          "base_uri": "https://localhost:8080/",
          "height": 283
        }
      },
      "source": [
        "plt.imshow(train_images[221],cmap= plt.cm.binary)\n",
        "train_labels[221]"
      ],
      "execution_count": 9,
      "outputs": [
        {
          "output_type": "execute_result",
          "data": {
            "text/plain": [
              "7"
            ]
          },
          "metadata": {
            "tags": []
          },
          "execution_count": 9
        },
        {
          "output_type": "display_data",
          "data": {
            "image/png": "[encoded data removed]",
            "text/plain": [
              "<Figure size 432x288 with 1 Axes>"
            ]
          },
          "metadata": {
            "tags": [],
            "needs_background": "light"
          }
        }
      ]
    },
    {
      "cell_type": "code",
      "metadata": {
        "id": "zkSxfKQ0c5Iu",
        "outputId": "e3f0bd32-1b60-485a-fbd8-1ce7bbbf2e1c",
        "colab": {
          "base_uri": "https://localhost:8080/"
        }
      },
      "source": [
        "train_images.shape"
      ],
      "execution_count": 10,
      "outputs": [
        {
          "output_type": "execute_result",
          "data": {
            "text/plain": [
              "(60000, 28, 28)"
            ]
          },
          "metadata": {
            "tags": []
          },
          "execution_count": 10
        }
      ]
    },
    {
      "cell_type": "code",
      "metadata": {
        "id": "5BKLI7uUGk-y"
      },
      "source": [
        "train_images = train_images.reshape((60000,28,28,1))"
      ],
      "execution_count": 11,
      "outputs": []
    },
    {
      "cell_type": "code",
      "metadata": {
        "id": "7bn9ZkPqH07k"
      },
      "source": [
        "test_images = test_images.reshape((10000,28,28,1))"
      ],
      "execution_count": 12,
      "outputs": []
    },
    {
      "cell_type": "code",
      "metadata": {
        "id": "AqBk54Q8FHUl"
      },
      "source": [
        "train_images = train_images.astype('float')/255\n",
        "test_images = test_images.astype('float')/255"
      ],
      "execution_count": 13,
      "outputs": []
    },
    {
      "cell_type": "code",
      "metadata": {
        "id": "YuLqQtBdIE5f"
      },
      "source": [
        "#now making the model \n",
        "model = keras.Sequential(name = \"fashion_mnist\")\n"
      ],
      "execution_count": 14,
      "outputs": []
    },
    {
      "cell_type": "code",
      "metadata": {
        "id": "-FL647ExIhrA"
      },
      "source": [
        "# adding the layer one by one \n",
        "# First convolutional layer. \n",
        "# Number of neurons = 32\n",
        "# filter(kernel) size = 3x3\n",
        "# Activation function = Relu\n",
        "# input data (images) size (height, width, channels) = (28, 28, 1)\n",
        "# Channels is 'colors' here. Since fashion MNIST images are grayscale, number of colors = 1, hence, channels = 1\n",
        "model.add(layers.Conv2D(filters=32,kernel_size=(3,3),activation='relu',input_shape=(28,28,1),))"
      ],
      "execution_count": 15,
      "outputs": []
    },
    {
      "cell_type": "code",
      "metadata": {
        "id": "fVrcGg5k19WX",
        "outputId": "f91260c5-da9c-4c89-a4b3-1f3ed55875bc",
        "colab": {
          "base_uri": "https://localhost:8080/"
        }
      },
      "source": [
        "model.summary()"
      ],
      "execution_count": 16,
      "outputs": [
        {
          "output_type": "stream",
          "text": [
            "Model: \"fashion_mnist\"\n",
            "_________________________________________________________________\n",
            "Layer (type)                 Output Shape              Param #   \n",
            "=================================================================\n",
            "conv2d (Conv2D)              (None, 26, 26, 32)        320       \n",
            "=================================================================\n",
            "Total params: 320\n",
            "Trainable params: 320\n",
            "Non-trainable params: 0\n",
            "_________________________________________________________________\n"
          ],
          "name": "stdout"
        }
      ]
    },
    {
      "cell_type": "code",
      "metadata": {
        "id": "kS9AUXF58sxl"
      },
      "source": [
        "model.add(layers.Conv2D(filters=64,kernel_size=(3,3),activation = 'relu'))\n",
        "#adding the max pooling layer\n",
        "model.add(layers.MaxPooling2D((2,2)))\n",
        "#adding the droppout layer for more accuracy\n",
        "model.add(layers.Dropout(.5))\n",
        "model.add(layers.Conv2D(128,kernel_size=(3,3),activation='relu'))\n",
        "model.add(layers.Conv2D(128,kernel_size=(3,3),activation='relu'))\n",
        "\n",
        "#adding the max pooling layer\n",
        "model.add(layers.MaxPooling2D((2,2)))\n",
        "\n",
        "#adding the droppout layer for more accuracy\n",
        "model.add(layers.Dropout(.5))"
      ],
      "execution_count": 17,
      "outputs": []
    },
    {
      "cell_type": "code",
      "metadata": {
        "id": "gOoDDdZv9bK-",
        "outputId": "ad676336-da12-4334-80e7-3831bedf0bf2",
        "colab": {
          "base_uri": "https://localhost:8080/"
        }
      },
      "source": [
        "model.summary()"
      ],
      "execution_count": 18,
      "outputs": [
        {
          "output_type": "stream",
          "text": [
            "Model: \"fashion_mnist\"\n",
            "_________________________________________________________________\n",
            "Layer (type)                 Output Shape              Param #   \n",
            "=================================================================\n",
            "conv2d (Conv2D)              (None, 26, 26, 32)        320       \n",
            "_________________________________________________________________\n",
            "conv2d_1 (Conv2D)            (None, 24, 24, 64)        18496     \n",
            "_________________________________________________________________\n",
            "max_pooling2d (MaxPooling2D) (None, 12, 12, 64)        0         \n",
            "_________________________________________________________________\n",
            "dropout (Dropout)            (None, 12, 12, 64)        0         \n",
            "_________________________________________________________________\n",
            "conv2d_2 (Conv2D)            (None, 10, 10, 128)       73856     \n",
            "_________________________________________________________________\n",
            "conv2d_3 (Conv2D)            (None, 8, 8, 128)         147584    \n",
            "_________________________________________________________________\n",
            "max_pooling2d_1 (MaxPooling2 (None, 4, 4, 128)         0         \n",
            "_________________________________________________________________\n",
            "dropout_1 (Dropout)          (None, 4, 4, 128)         0         \n",
            "=================================================================\n",
            "Total params: 240,256\n",
            "Trainable params: 240,256\n",
            "Non-trainable params: 0\n",
            "_________________________________________________________________\n"
          ],
          "name": "stdout"
        }
      ]
    },
    {
      "cell_type": "code",
      "metadata": {
        "id": "0tCqaDoWDS2V",
        "outputId": "11641e87-b18f-4227-b5fb-fe15ba4b3c6a",
        "colab": {
          "base_uri": "https://localhost:8080/"
        }
      },
      "source": [
        "model.summary()"
      ],
      "execution_count": 19,
      "outputs": [
        {
          "output_type": "stream",
          "text": [
            "Model: \"fashion_mnist\"\n",
            "_________________________________________________________________\n",
            "Layer (type)                 Output Shape              Param #   \n",
            "=================================================================\n",
            "conv2d (Conv2D)              (None, 26, 26, 32)        320       \n",
            "_________________________________________________________________\n",
            "conv2d_1 (Conv2D)            (None, 24, 24, 64)        18496     \n",
            "_________________________________________________________________\n",
            "max_pooling2d (MaxPooling2D) (None, 12, 12, 64)        0         \n",
            "_________________________________________________________________\n",
            "dropout (Dropout)            (None, 12, 12, 64)        0         \n",
            "_________________________________________________________________\n",
            "conv2d_2 (Conv2D)            (None, 10, 10, 128)       73856     \n",
            "_________________________________________________________________\n",
            "conv2d_3 (Conv2D)            (None, 8, 8, 128)         147584    \n",
            "_________________________________________________________________\n",
            "max_pooling2d_1 (MaxPooling2 (None, 4, 4, 128)         0         \n",
            "_________________________________________________________________\n",
            "dropout_1 (Dropout)          (None, 4, 4, 128)         0         \n",
            "=================================================================\n",
            "Total params: 240,256\n",
            "Trainable params: 240,256\n",
            "Non-trainable params: 0\n",
            "_________________________________________________________________\n"
          ],
          "name": "stdout"
        }
      ]
    },
    {
      "cell_type": "code",
      "metadata": {
        "id": "XMIPqySODWeL"
      },
      "source": [
        "#flatting the layer to connect further\n",
        "model.add(layers.Flatten())"
      ],
      "execution_count": 20,
      "outputs": []
    },
    {
      "cell_type": "code",
      "metadata": {
        "id": "5oTtotMvDafQ",
        "outputId": "9ba417c3-83dc-473d-df35-316bff35ab4b",
        "colab": {
          "base_uri": "https://localhost:8080/"
        }
      },
      "source": [
        "model.summary()"
      ],
      "execution_count": 21,
      "outputs": [
        {
          "output_type": "stream",
          "text": [
            "Model: \"fashion_mnist\"\n",
            "_________________________________________________________________\n",
            "Layer (type)                 Output Shape              Param #   \n",
            "=================================================================\n",
            "conv2d (Conv2D)              (None, 26, 26, 32)        320       \n",
            "_________________________________________________________________\n",
            "conv2d_1 (Conv2D)            (None, 24, 24, 64)        18496     \n",
            "_________________________________________________________________\n",
            "max_pooling2d (MaxPooling2D) (None, 12, 12, 64)        0         \n",
            "_________________________________________________________________\n",
            "dropout (Dropout)            (None, 12, 12, 64)        0         \n",
            "_________________________________________________________________\n",
            "conv2d_2 (Conv2D)            (None, 10, 10, 128)       73856     \n",
            "_________________________________________________________________\n",
            "conv2d_3 (Conv2D)            (None, 8, 8, 128)         147584    \n",
            "_________________________________________________________________\n",
            "max_pooling2d_1 (MaxPooling2 (None, 4, 4, 128)         0         \n",
            "_________________________________________________________________\n",
            "dropout_1 (Dropout)          (None, 4, 4, 128)         0         \n",
            "_________________________________________________________________\n",
            "flatten (Flatten)            (None, 2048)              0         \n",
            "=================================================================\n",
            "Total params: 240,256\n",
            "Trainable params: 240,256\n",
            "Non-trainable params: 0\n",
            "_________________________________________________________________\n"
          ],
          "name": "stdout"
        }
      ]
    },
    {
      "cell_type": "code",
      "metadata": {
        "id": "T3R0yH7SDdDM",
        "outputId": "4660e8df-3a6d-4f5c-c99c-3b8002fa8d8b",
        "colab": {
          "base_uri": "https://localhost:8080/"
        }
      },
      "source": [
        "#Creating the dense layer for further connection \n",
        "model.add(layers.Dense(128,activation='relu',\n",
        "                       #kernel_regularizer=tf.keras.regularizers.l2(l2=0.0001)\n",
        "                       ))\n",
        "# Adding the last layer for the classification of the various items adding the softmax activation for the probability distribution \n",
        "model.add(layers.Dropout(.5))\n",
        "model.add(layers.Dense(128,activation='relu',\n",
        "                       #kernel_regularizer=tf.keras.regularizers.l2(l2=0.0001)\n",
        "                       ))\n",
        "model.add(layers.Dense(10, activation='softmax'))\n",
        "model.summary()"
      ],
      "execution_count": 22,
      "outputs": [
        {
          "output_type": "stream",
          "text": [
            "Model: \"fashion_mnist\"\n",
            "_________________________________________________________________\n",
            "Layer (type)                 Output Shape              Param #   \n",
            "=================================================================\n",
            "conv2d (Conv2D)              (None, 26, 26, 32)        320       \n",
            "_________________________________________________________________\n",
            "conv2d_1 (Conv2D)            (None, 24, 24, 64)        18496     \n",
            "_________________________________________________________________\n",
            "max_pooling2d (MaxPooling2D) (None, 12, 12, 64)        0         \n",
            "_________________________________________________________________\n",
            "dropout (Dropout)            (None, 12, 12, 64)        0         \n",
            "_________________________________________________________________\n",
            "conv2d_2 (Conv2D)            (None, 10, 10, 128)       73856     \n",
            "_________________________________________________________________\n",
            "conv2d_3 (Conv2D)            (None, 8, 8, 128)         147584    \n",
            "_________________________________________________________________\n",
            "max_pooling2d_1 (MaxPooling2 (None, 4, 4, 128)         0         \n",
            "_________________________________________________________________\n",
            "dropout_1 (Dropout)          (None, 4, 4, 128)         0         \n",
            "_________________________________________________________________\n",
            "flatten (Flatten)            (None, 2048)              0         \n",
            "_________________________________________________________________\n",
            "dense (Dense)                (None, 128)               262272    \n",
            "_________________________________________________________________\n",
            "dropout_2 (Dropout)          (None, 128)               0         \n",
            "_________________________________________________________________\n",
            "dense_1 (Dense)              (None, 128)               16512     \n",
            "_________________________________________________________________\n",
            "dense_2 (Dense)              (None, 10)                1290      \n",
            "=================================================================\n",
            "Total params: 520,330\n",
            "Trainable params: 520,330\n",
            "Non-trainable params: 0\n",
            "_________________________________________________________________\n"
          ],
          "name": "stdout"
        }
      ]
    },
    {
      "cell_type": "code",
      "metadata": {
        "id": "Q_YfAXYOEN4S"
      },
      "source": [
        "model.compile(optimizer='adam',\n",
        "              loss='sparse_categorical_crossentropy',\n",
        "              metrics=['accuracy'])\n",
        "log_dir = \"logs/fit/\" + datetime.datetime.now().strftime(\"%Y%m%d-%H%M%S\")\n",
        "#tensorboard_callback = tf.keras.callbacks.TensorBoard(log_dir=log_dir, histogram_freq=1)\n",
        "#%tensorboard --logdir logs/fit"
      ],
      "execution_count": 23,
      "outputs": []
    },
    {
      "cell_type": "code",
      "metadata": {
        "id": "PjgMUNYhE44D",
        "outputId": "9aeb09a8-7f85-4641-dd0f-c6869e019754",
        "colab": {
          "base_uri": "https://localhost:8080/"
        }
      },
      "source": [
        "#now training the model by shuffeling and validating the data of 10%\n",
        "\n",
        "graph = model.fit(train_images,train_labels,epochs=100,batch_size =  512,shuffle = True,validation_split= 0.1)"
      ],
      "execution_count": 24,
      "outputs": [
        {
          "output_type": "stream",
          "text": [
            "Epoch 1/100\n",
            "106/106 [==============================] - 2s 22ms/step - loss: 1.0294 - accuracy: 0.6115 - val_loss: 0.5455 - val_accuracy: 0.7837\n",
            "Epoch 2/100\n",
            "106/106 [==============================] - 2s 19ms/step - loss: 0.5890 - accuracy: 0.7730 - val_loss: 0.4567 - val_accuracy: 0.8255\n",
            "Epoch 3/100\n",
            "106/106 [==============================] - 2s 19ms/step - loss: 0.5000 - accuracy: 0.8128 - val_loss: 0.3813 - val_accuracy: 0.8543\n",
            "Epoch 4/100\n",
            "106/106 [==============================] - 2s 19ms/step - loss: 0.4388 - accuracy: 0.8381 - val_loss: 0.3383 - val_accuracy: 0.8730\n",
            "Epoch 5/100\n",
            "106/106 [==============================] - 2s 19ms/step - loss: 0.3945 - accuracy: 0.8570 - val_loss: 0.3025 - val_accuracy: 0.8908\n",
            "Epoch 6/100\n",
            "106/106 [==============================] - 2s 19ms/step - loss: 0.3677 - accuracy: 0.8672 - val_loss: 0.2926 - val_accuracy: 0.8870\n",
            "Epoch 7/100\n",
            "106/106 [==============================] - 2s 19ms/step - loss: 0.3429 - accuracy: 0.8763 - val_loss: 0.2790 - val_accuracy: 0.8917\n",
            "Epoch 8/100\n",
            "106/106 [==============================] - 2s 19ms/step - loss: 0.3241 - accuracy: 0.8823 - val_loss: 0.2617 - val_accuracy: 0.9028\n",
            "Epoch 9/100\n",
            "106/106 [==============================] - 2s 19ms/step - loss: 0.3119 - accuracy: 0.8878 - val_loss: 0.2480 - val_accuracy: 0.9035\n",
            "Epoch 10/100\n",
            "106/106 [==============================] - 2s 19ms/step - loss: 0.2959 - accuracy: 0.8933 - val_loss: 0.2411 - val_accuracy: 0.9060\n",
            "Epoch 11/100\n",
            "106/106 [==============================] - 2s 19ms/step - loss: 0.2902 - accuracy: 0.8952 - val_loss: 0.2394 - val_accuracy: 0.9130\n",
            "Epoch 12/100\n",
            "106/106 [==============================] - 2s 19ms/step - loss: 0.2774 - accuracy: 0.8992 - val_loss: 0.2269 - val_accuracy: 0.9145\n",
            "Epoch 13/100\n",
            "106/106 [==============================] - 2s 19ms/step - loss: 0.2744 - accuracy: 0.8999 - val_loss: 0.2291 - val_accuracy: 0.9123\n",
            "Epoch 14/100\n",
            "106/106 [==============================] - 2s 19ms/step - loss: 0.2626 - accuracy: 0.9059 - val_loss: 0.2228 - val_accuracy: 0.9180\n",
            "Epoch 15/100\n",
            "106/106 [==============================] - 2s 19ms/step - loss: 0.2581 - accuracy: 0.9066 - val_loss: 0.2193 - val_accuracy: 0.9177\n",
            "Epoch 16/100\n",
            "106/106 [==============================] - 2s 19ms/step - loss: 0.2543 - accuracy: 0.9073 - val_loss: 0.2204 - val_accuracy: 0.9170\n",
            "Epoch 17/100\n",
            "106/106 [==============================] - 2s 19ms/step - loss: 0.2488 - accuracy: 0.9109 - val_loss: 0.2148 - val_accuracy: 0.9200\n",
            "Epoch 18/100\n",
            "106/106 [==============================] - 2s 19ms/step - loss: 0.2428 - accuracy: 0.9119 - val_loss: 0.2065 - val_accuracy: 0.9252\n",
            "Epoch 19/100\n",
            "106/106 [==============================] - 2s 19ms/step - loss: 0.2382 - accuracy: 0.9134 - val_loss: 0.2134 - val_accuracy: 0.9228\n",
            "Epoch 20/100\n",
            "106/106 [==============================] - 2s 19ms/step - loss: 0.2315 - accuracy: 0.9157 - val_loss: 0.2048 - val_accuracy: 0.9240\n",
            "Epoch 21/100\n",
            "106/106 [==============================] - 2s 19ms/step - loss: 0.2277 - accuracy: 0.9164 - val_loss: 0.2083 - val_accuracy: 0.9233\n",
            "Epoch 22/100\n",
            "106/106 [==============================] - 2s 19ms/step - loss: 0.2235 - accuracy: 0.9190 - val_loss: 0.2037 - val_accuracy: 0.9243\n",
            "Epoch 23/100\n",
            "106/106 [==============================] - 2s 19ms/step - loss: 0.2217 - accuracy: 0.9187 - val_loss: 0.1959 - val_accuracy: 0.9285\n",
            "Epoch 24/100\n",
            "106/106 [==============================] - 2s 19ms/step - loss: 0.2142 - accuracy: 0.9210 - val_loss: 0.2002 - val_accuracy: 0.9275\n",
            "Epoch 25/100\n",
            "106/106 [==============================] - 2s 19ms/step - loss: 0.2152 - accuracy: 0.9215 - val_loss: 0.1910 - val_accuracy: 0.9280\n",
            "Epoch 26/100\n",
            "106/106 [==============================] - 2s 19ms/step - loss: 0.2102 - accuracy: 0.9239 - val_loss: 0.1934 - val_accuracy: 0.9272\n",
            "Epoch 27/100\n",
            "106/106 [==============================] - 2s 19ms/step - loss: 0.2025 - accuracy: 0.9268 - val_loss: 0.1935 - val_accuracy: 0.9300\n",
            "Epoch 28/100\n",
            "106/106 [==============================] - 2s 19ms/step - loss: 0.2033 - accuracy: 0.9251 - val_loss: 0.1866 - val_accuracy: 0.9307\n",
            "Epoch 29/100\n",
            "106/106 [==============================] - 2s 19ms/step - loss: 0.2034 - accuracy: 0.9263 - val_loss: 0.1894 - val_accuracy: 0.9323\n",
            "Epoch 30/100\n",
            "106/106 [==============================] - 2s 19ms/step - loss: 0.1988 - accuracy: 0.9276 - val_loss: 0.1861 - val_accuracy: 0.9327\n",
            "Epoch 31/100\n",
            "106/106 [==============================] - 2s 19ms/step - loss: 0.1961 - accuracy: 0.9289 - val_loss: 0.1865 - val_accuracy: 0.9310\n",
            "Epoch 32/100\n",
            "106/106 [==============================] - 2s 19ms/step - loss: 0.1906 - accuracy: 0.9303 - val_loss: 0.2007 - val_accuracy: 0.9278\n",
            "Epoch 33/100\n",
            "106/106 [==============================] - 2s 19ms/step - loss: 0.1884 - accuracy: 0.9310 - val_loss: 0.1887 - val_accuracy: 0.9320\n",
            "Epoch 34/100\n",
            "106/106 [==============================] - 2s 19ms/step - loss: 0.1868 - accuracy: 0.9319 - val_loss: 0.1825 - val_accuracy: 0.9363\n",
            "Epoch 35/100\n",
            "106/106 [==============================] - 2s 19ms/step - loss: 0.1865 - accuracy: 0.9310 - val_loss: 0.1835 - val_accuracy: 0.9348\n",
            "Epoch 36/100\n",
            "106/106 [==============================] - 2s 19ms/step - loss: 0.1823 - accuracy: 0.9329 - val_loss: 0.1842 - val_accuracy: 0.9315\n",
            "Epoch 37/100\n",
            "106/106 [==============================] - 2s 19ms/step - loss: 0.1828 - accuracy: 0.9312 - val_loss: 0.1873 - val_accuracy: 0.9357\n",
            "Epoch 38/100\n",
            "106/106 [==============================] - 2s 19ms/step - loss: 0.1799 - accuracy: 0.9329 - val_loss: 0.1773 - val_accuracy: 0.9345\n",
            "Epoch 39/100\n",
            "106/106 [==============================] - 2s 19ms/step - loss: 0.1760 - accuracy: 0.9361 - val_loss: 0.1848 - val_accuracy: 0.9340\n",
            "Epoch 40/100\n",
            "106/106 [==============================] - 2s 19ms/step - loss: 0.1729 - accuracy: 0.9361 - val_loss: 0.1776 - val_accuracy: 0.9347\n",
            "Epoch 41/100\n",
            "106/106 [==============================] - 2s 19ms/step - loss: 0.1735 - accuracy: 0.9368 - val_loss: 0.1829 - val_accuracy: 0.9353\n",
            "Epoch 42/100\n",
            "106/106 [==============================] - 2s 19ms/step - loss: 0.1724 - accuracy: 0.9366 - val_loss: 0.1831 - val_accuracy: 0.9355\n",
            "Epoch 43/100\n",
            "106/106 [==============================] - 2s 19ms/step - loss: 0.1691 - accuracy: 0.9374 - val_loss: 0.1728 - val_accuracy: 0.9380\n",
            "Epoch 44/100\n",
            "106/106 [==============================] - 2s 19ms/step - loss: 0.1672 - accuracy: 0.9384 - val_loss: 0.1782 - val_accuracy: 0.9363\n",
            "Epoch 45/100\n",
            "106/106 [==============================] - 2s 19ms/step - loss: 0.1664 - accuracy: 0.9377 - val_loss: 0.1793 - val_accuracy: 0.9363\n",
            "Epoch 46/100\n",
            "106/106 [==============================] - 2s 19ms/step - loss: 0.1645 - accuracy: 0.9391 - val_loss: 0.1777 - val_accuracy: 0.9370\n",
            "Epoch 47/100\n",
            "106/106 [==============================] - 2s 19ms/step - loss: 0.1644 - accuracy: 0.9399 - val_loss: 0.1757 - val_accuracy: 0.9382\n",
            "Epoch 48/100\n",
            "106/106 [==============================] - 2s 19ms/step - loss: 0.1587 - accuracy: 0.9408 - val_loss: 0.1751 - val_accuracy: 0.9383\n",
            "Epoch 49/100\n",
            "106/106 [==============================] - 2s 19ms/step - loss: 0.1587 - accuracy: 0.9416 - val_loss: 0.1742 - val_accuracy: 0.9362\n",
            "Epoch 50/100\n",
            "106/106 [==============================] - 2s 19ms/step - loss: 0.1597 - accuracy: 0.9407 - val_loss: 0.1718 - val_accuracy: 0.9378\n",
            "Epoch 51/100\n",
            "106/106 [==============================] - 2s 19ms/step - loss: 0.1566 - accuracy: 0.9417 - val_loss: 0.1798 - val_accuracy: 0.9367\n",
            "Epoch 52/100\n",
            "106/106 [==============================] - 2s 19ms/step - loss: 0.1597 - accuracy: 0.9407 - val_loss: 0.1782 - val_accuracy: 0.9373\n",
            "Epoch 53/100\n",
            "106/106 [==============================] - 2s 19ms/step - loss: 0.1555 - accuracy: 0.9429 - val_loss: 0.1723 - val_accuracy: 0.9378\n",
            "Epoch 54/100\n",
            "106/106 [==============================] - 2s 19ms/step - loss: 0.1496 - accuracy: 0.9444 - val_loss: 0.1803 - val_accuracy: 0.9390\n",
            "Epoch 55/100\n",
            "106/106 [==============================] - 2s 19ms/step - loss: 0.1534 - accuracy: 0.9435 - val_loss: 0.1813 - val_accuracy: 0.9368\n",
            "Epoch 56/100\n",
            "106/106 [==============================] - 2s 19ms/step - loss: 0.1513 - accuracy: 0.9436 - val_loss: 0.1743 - val_accuracy: 0.9382\n",
            "Epoch 57/100\n",
            "106/106 [==============================] - 2s 19ms/step - loss: 0.1494 - accuracy: 0.9449 - val_loss: 0.1704 - val_accuracy: 0.9402\n",
            "Epoch 58/100\n",
            "106/106 [==============================] - 2s 19ms/step - loss: 0.1488 - accuracy: 0.9451 - val_loss: 0.1736 - val_accuracy: 0.9347\n",
            "Epoch 59/100\n",
            "106/106 [==============================] - 2s 19ms/step - loss: 0.1475 - accuracy: 0.9455 - val_loss: 0.1704 - val_accuracy: 0.9353\n",
            "Epoch 60/100\n",
            "106/106 [==============================] - 2s 19ms/step - loss: 0.1478 - accuracy: 0.9454 - val_loss: 0.1636 - val_accuracy: 0.9400\n",
            "Epoch 61/100\n",
            "106/106 [==============================] - 2s 19ms/step - loss: 0.1416 - accuracy: 0.9481 - val_loss: 0.1697 - val_accuracy: 0.9407\n",
            "Epoch 62/100\n",
            "106/106 [==============================] - 2s 19ms/step - loss: 0.1468 - accuracy: 0.9453 - val_loss: 0.1716 - val_accuracy: 0.9403\n",
            "Epoch 63/100\n",
            "106/106 [==============================] - 2s 19ms/step - loss: 0.1427 - accuracy: 0.9473 - val_loss: 0.1779 - val_accuracy: 0.9370\n",
            "Epoch 64/100\n",
            "106/106 [==============================] - 2s 19ms/step - loss: 0.1414 - accuracy: 0.9475 - val_loss: 0.1738 - val_accuracy: 0.9382\n",
            "Epoch 65/100\n",
            "106/106 [==============================] - 2s 19ms/step - loss: 0.1433 - accuracy: 0.9474 - val_loss: 0.1779 - val_accuracy: 0.9382\n",
            "Epoch 66/100\n",
            "106/106 [==============================] - 2s 19ms/step - loss: 0.1378 - accuracy: 0.9485 - val_loss: 0.1717 - val_accuracy: 0.9393\n",
            "Epoch 67/100\n",
            "106/106 [==============================] - 2s 19ms/step - loss: 0.1391 - accuracy: 0.9487 - val_loss: 0.1773 - val_accuracy: 0.9392\n",
            "Epoch 68/100\n",
            "106/106 [==============================] - 2s 19ms/step - loss: 0.1360 - accuracy: 0.9498 - val_loss: 0.1767 - val_accuracy: 0.9382\n",
            "Epoch 69/100\n",
            "106/106 [==============================] - 2s 19ms/step - loss: 0.1345 - accuracy: 0.9505 - val_loss: 0.1691 - val_accuracy: 0.9398\n",
            "Epoch 70/100\n",
            "106/106 [==============================] - 2s 19ms/step - loss: 0.1373 - accuracy: 0.9494 - val_loss: 0.1802 - val_accuracy: 0.9355\n",
            "Epoch 71/100\n",
            "106/106 [==============================] - 2s 19ms/step - loss: 0.1357 - accuracy: 0.9495 - val_loss: 0.1812 - val_accuracy: 0.9347\n",
            "Epoch 72/100\n",
            "106/106 [==============================] - 2s 19ms/step - loss: 0.1317 - accuracy: 0.9502 - val_loss: 0.1729 - val_accuracy: 0.9375\n",
            "Epoch 73/100\n",
            "106/106 [==============================] - 2s 19ms/step - loss: 0.1322 - accuracy: 0.9506 - val_loss: 0.1799 - val_accuracy: 0.9377\n",
            "Epoch 74/100\n",
            "106/106 [==============================] - 2s 19ms/step - loss: 0.1333 - accuracy: 0.9499 - val_loss: 0.1711 - val_accuracy: 0.9385\n",
            "Epoch 75/100\n",
            "106/106 [==============================] - 2s 19ms/step - loss: 0.1327 - accuracy: 0.9511 - val_loss: 0.1796 - val_accuracy: 0.9382\n",
            "Epoch 76/100\n",
            "106/106 [==============================] - 2s 19ms/step - loss: 0.1322 - accuracy: 0.9511 - val_loss: 0.1745 - val_accuracy: 0.9380\n",
            "Epoch 77/100\n",
            "106/106 [==============================] - 2s 19ms/step - loss: 0.1324 - accuracy: 0.9511 - val_loss: 0.1755 - val_accuracy: 0.9340\n",
            "Epoch 78/100\n",
            "106/106 [==============================] - 2s 19ms/step - loss: 0.1333 - accuracy: 0.9497 - val_loss: 0.1710 - val_accuracy: 0.9390\n",
            "Epoch 79/100\n",
            "106/106 [==============================] - 2s 19ms/step - loss: 0.1292 - accuracy: 0.9523 - val_loss: 0.1719 - val_accuracy: 0.9372\n",
            "Epoch 80/100\n",
            "106/106 [==============================] - 2s 19ms/step - loss: 0.1268 - accuracy: 0.9525 - val_loss: 0.1826 - val_accuracy: 0.9373\n",
            "Epoch 81/100\n",
            "106/106 [==============================] - 2s 19ms/step - loss: 0.1257 - accuracy: 0.9530 - val_loss: 0.1772 - val_accuracy: 0.9385\n",
            "Epoch 82/100\n",
            "106/106 [==============================] - 2s 19ms/step - loss: 0.1242 - accuracy: 0.9542 - val_loss: 0.1731 - val_accuracy: 0.9372\n",
            "Epoch 83/100\n",
            "106/106 [==============================] - 2s 19ms/step - loss: 0.1268 - accuracy: 0.9534 - val_loss: 0.1792 - val_accuracy: 0.9350\n",
            "Epoch 84/100\n",
            "106/106 [==============================] - 2s 19ms/step - loss: 0.1258 - accuracy: 0.9531 - val_loss: 0.1726 - val_accuracy: 0.9368\n",
            "Epoch 85/100\n",
            "106/106 [==============================] - 2s 19ms/step - loss: 0.1252 - accuracy: 0.9530 - val_loss: 0.1836 - val_accuracy: 0.9350\n",
            "Epoch 86/100\n",
            "106/106 [==============================] - 2s 19ms/step - loss: 0.1205 - accuracy: 0.9540 - val_loss: 0.1763 - val_accuracy: 0.9395\n",
            "Epoch 87/100\n",
            "106/106 [==============================] - 2s 19ms/step - loss: 0.1242 - accuracy: 0.9542 - val_loss: 0.1733 - val_accuracy: 0.9403\n",
            "Epoch 88/100\n",
            "106/106 [==============================] - 2s 19ms/step - loss: 0.1216 - accuracy: 0.9551 - val_loss: 0.1809 - val_accuracy: 0.9380\n",
            "Epoch 89/100\n",
            "106/106 [==============================] - 2s 19ms/step - loss: 0.1187 - accuracy: 0.9558 - val_loss: 0.1792 - val_accuracy: 0.9372\n",
            "Epoch 90/100\n",
            "106/106 [==============================] - 2s 19ms/step - loss: 0.1217 - accuracy: 0.9557 - val_loss: 0.1712 - val_accuracy: 0.9432\n",
            "Epoch 91/100\n",
            "106/106 [==============================] - 2s 19ms/step - loss: 0.1202 - accuracy: 0.9554 - val_loss: 0.1711 - val_accuracy: 0.9395\n",
            "Epoch 92/100\n",
            "106/106 [==============================] - 2s 19ms/step - loss: 0.1197 - accuracy: 0.9548 - val_loss: 0.1759 - val_accuracy: 0.9400\n",
            "Epoch 93/100\n",
            "106/106 [==============================] - 2s 19ms/step - loss: 0.1208 - accuracy: 0.9551 - val_loss: 0.1763 - val_accuracy: 0.9385\n",
            "Epoch 94/100\n",
            "106/106 [==============================] - 2s 19ms/step - loss: 0.1174 - accuracy: 0.9567 - val_loss: 0.1781 - val_accuracy: 0.9407\n",
            "Epoch 95/100\n",
            "106/106 [==============================] - 2s 19ms/step - loss: 0.1175 - accuracy: 0.9558 - val_loss: 0.1735 - val_accuracy: 0.9395\n",
            "Epoch 96/100\n",
            "106/106 [==============================] - 2s 19ms/step - loss: 0.1210 - accuracy: 0.9556 - val_loss: 0.1868 - val_accuracy: 0.9333\n",
            "Epoch 97/100\n",
            "106/106 [==============================] - 2s 19ms/step - loss: 0.1162 - accuracy: 0.9566 - val_loss: 0.1760 - val_accuracy: 0.9402\n",
            "Epoch 98/100\n",
            "106/106 [==============================] - 2s 19ms/step - loss: 0.1171 - accuracy: 0.9558 - val_loss: 0.1754 - val_accuracy: 0.9378\n",
            "Epoch 99/100\n",
            "106/106 [==============================] - 2s 19ms/step - loss: 0.1163 - accuracy: 0.9557 - val_loss: 0.1742 - val_accuracy: 0.9402\n",
            "Epoch 100/100\n",
            "106/106 [==============================] - 2s 19ms/step - loss: 0.1160 - accuracy: 0.9571 - val_loss: 0.1726 - val_accuracy: 0.9417\n"
          ],
          "name": "stdout"
        }
      ]
    },
    {
      "cell_type": "code",
      "metadata": {
        "id": "0BxenOoFE4s4",
        "outputId": "4a3c981a-fe39-4cfb-e50a-291ec6958cd6",
        "colab": {
          "base_uri": "https://localhost:8080/"
        }
      },
      "source": [
        "test_loss, test_accuracy = model.evaluate(test_images,test_labels)"
      ],
      "execution_count": 28,
      "outputs": [
        {
          "output_type": "stream",
          "text": [
            "313/313 [==============================] - 1s 2ms/step - loss: 0.1928 - accuracy: 0.9388\n"
          ],
          "name": "stdout"
        }
      ]
    },
    {
      "cell_type": "code",
      "metadata": {
        "id": "RN9H0pxDHhxn",
        "outputId": "726b1f10-2179-47b3-c0e1-b036051dabb2",
        "colab": {
          "base_uri": "https://localhost:8080/"
        }
      },
      "source": [
        "print(graph.history.keys())"
      ],
      "execution_count": 26,
      "outputs": [
        {
          "output_type": "stream",
          "text": [
            "dict_keys(['loss', 'accuracy', 'val_loss', 'val_accuracy'])\n"
          ],
          "name": "stdout"
        }
      ]
    },
    {
      "cell_type": "code",
      "metadata": {
        "id": "ZjmWcb3nQO4G",
        "outputId": "e4c6e27a-2269-40f5-b866-f4ba664bd826",
        "colab": {
          "base_uri": "https://localhost:8080/",
          "height": 320
        }
      },
      "source": [
        "fig, axes = plt.subplots(1,2,figsize=(20,5))\n",
        "axes[0].plot(graph.history['loss'],color = 'red',label=\"loss\")\n",
        "axes[0].plot(graph.history['val_loss'],color ='blue',label=\"validation loss\")\n",
        "axes[1].plot(graph.history['accuracy'],label= \"accuracy\")\n",
        "axes[1].plot(graph.history['val_accuracy'],label=\"validation accuracy\")\n",
        "axes[0].legend()\n",
        "axes[1].legend()\n",
        "fig.show()"
      ],
      "execution_count": 27,
      "outputs": [
        {
          "output_type": "display_data",
          "data": {
            "image/png": "[encoded data removed]",
            "text/plain": [
              "<Figure size 1440x360 with 2 Axes>"
            ]
          },
          "metadata": {
            "tags": [],
            "needs_background": "light"
          }
        }
      ]
    },
    {
      "cell_type": "code",
      "metadata": {
        "id": "Tv-_uZefQ936"
      },
      "source": [
        ""
      ],
      "execution_count": 27,
      "outputs": []
    }
  ]
}