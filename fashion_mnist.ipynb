{
  "nbformat": 4,
  "nbformat_minor": 0,
  "metadata": {
    "colab": {
      "name": "fashion_mnist.ipynb",
      "provenance": [],
      "collapsed_sections": [],
      "authorship_tag": "ABX9TyOvJbJFAr5XDVaXczFqr/Ax",
      "include_colab_link": true
    },
    "kernelspec": {
      "name": "python3",
      "display_name": "Python 3"
    },
    "accelerator": "GPU"
  },
  "cells": [
    {
      "cell_type": "markdown",
      "metadata": {
        "id": "view-in-github",
        "colab_type": "text"
      },
      "source": [
        "<a href=\"https://colab.research.google.com/github/ankit-thealchemist/tensorflow/blob/main/fashion_mnist.ipynb\" target=\"_parent\"><img src=\"https://colab.research.google.com/assets/colab-badge.svg\" alt=\"Open In Colab\"/></a>"
      ]
    },
    {
      "cell_type": "code",
      "metadata": {
        "id": "0wvaHuR2ZxkK"
      },
      "source": [
        "import tensorflow as tf\n",
        "from tensorflow import keras\n",
        "from tensorflow.keras import layers, models\n",
        "from tensorflow.keras.models import load_model\n",
        "from tensorflow.keras.layers import BatchNormalization\n",
        "import os\n",
        "import datetime\n",
        "#%load_ext tensorboard\n",
        "#!rm -rf ./logs/fit"
      ],
      "execution_count": 1,
      "outputs": []
    },
    {
      "cell_type": "code",
      "metadata": {
        "id": "nQ-gtO9ia57z",
        "outputId": "58ff75a2-d827-47bb-bc34-dec511baad8b",
        "colab": {
          "base_uri": "https://localhost:8080/"
        }
      },
      "source": [
        "print(tf.__version__)\n",
        "print(tf.keras.__version__)"
      ],
      "execution_count": 2,
      "outputs": [
        {
          "output_type": "stream",
          "text": [
            "2.3.0\n",
            "2.4.0\n"
          ],
          "name": "stdout"
        }
      ]
    },
    {
      "cell_type": "code",
      "metadata": {
        "id": "nfMGq3WvbL5L"
      },
      "source": [
        "import numpy as np\n",
        "import matplotlib.pyplot as plt\n",
        "fashion_mnist = keras.datasets.fashion_mnist"
      ],
      "execution_count": 3,
      "outputs": []
    },
    {
      "cell_type": "code",
      "metadata": {
        "id": "XGlGATDibqYq"
      },
      "source": [
        "(train_images,train_labels) , (test_images,test_labels) = fashion_mnist.load_data()"
      ],
      "execution_count": 4,
      "outputs": []
    },
    {
      "cell_type": "code",
      "metadata": {
        "id": "wrf-S8L1cDB0"
      },
      "source": [
        "class_names = ['T-shirt/top', 'Trouser', 'Pullover', 'Dress', 'Coat', \n",
        "               'Sandal', 'Shirt', 'Sneaker', 'Bag', 'Ankle boot']"
      ],
      "execution_count": 5,
      "outputs": []
    },
    {
      "cell_type": "code",
      "metadata": {
        "id": "IVEauUzicbhF",
        "outputId": "b3d774c7-23fb-4506-c7eb-adeeea575a02",
        "colab": {
          "base_uri": "https://localhost:8080/"
        }
      },
      "source": [
        "train_images.shape"
      ],
      "execution_count": 6,
      "outputs": [
        {
          "output_type": "execute_result",
          "data": {
            "text/plain": [
              "(60000, 28, 28)"
            ]
          },
          "metadata": {
            "tags": []
          },
          "execution_count": 6
        }
      ]
    },
    {
      "cell_type": "code",
      "metadata": {
        "id": "pLJwO6ygcdqJ",
        "outputId": "0f928b06-e523-4360-f5ec-3663adb00288",
        "colab": {
          "base_uri": "https://localhost:8080/"
        }
      },
      "source": [
        "train_labels.shape"
      ],
      "execution_count": 7,
      "outputs": [
        {
          "output_type": "execute_result",
          "data": {
            "text/plain": [
              "(60000,)"
            ]
          },
          "metadata": {
            "tags": []
          },
          "execution_count": 7
        }
      ]
    },
    {
      "cell_type": "code",
      "metadata": {
        "id": "dfEoCmAWciu1",
        "outputId": "054c2751-006e-4cc1-a133-5bae0a0bf2ca",
        "colab": {
          "base_uri": "https://localhost:8080/",
          "height": 51
        }
      },
      "source": [
        "plt.figure()"
      ],
      "execution_count": 8,
      "outputs": [
        {
          "output_type": "execute_result",
          "data": {
            "text/plain": [
              "<Figure size 432x288 with 0 Axes>"
            ]
          },
          "metadata": {
            "tags": []
          },
          "execution_count": 8
        },
        {
          "output_type": "display_data",
          "data": {
            "text/plain": [
              "<Figure size 432x288 with 0 Axes>"
            ]
          },
          "metadata": {
            "tags": []
          }
        }
      ]
    },
    {
      "cell_type": "code",
      "metadata": {
        "id": "T7ScuEdicosq",
        "outputId": "3aa1eeb3-8227-4054-82df-6d8f5548d1a5",
        "colab": {
          "base_uri": "https://localhost:8080/",
          "height": 282
        }
      },
      "source": [
        "plt.imshow(train_images[221],cmap= plt.cm.binary)\n",
        "train_labels[221]"
      ],
      "execution_count": 9,
      "outputs": [
        {
          "output_type": "execute_result",
          "data": {
            "text/plain": [
              "7"
            ]
          },
          "metadata": {
            "tags": []
          },
          "execution_count": 9
        },
        {
          "output_type": "display_data",
          "data": {
            "image/png": "[encoded data removed]",
            "text/plain": [
              "<Figure size 432x288 with 1 Axes>"
            ]
          },
          "metadata": {
            "tags": [],
            "needs_background": "light"
          }
        }
      ]
    },
    {
      "cell_type": "code",
      "metadata": {
        "id": "zkSxfKQ0c5Iu",
        "outputId": "a165e3f0-62a2-40b5-b0ed-59e40bedf537",
        "colab": {
          "base_uri": "https://localhost:8080/"
        }
      },
      "source": [
        "train_images.shape"
      ],
      "execution_count": 10,
      "outputs": [
        {
          "output_type": "execute_result",
          "data": {
            "text/plain": [
              "(60000, 28, 28)"
            ]
          },
          "metadata": {
            "tags": []
          },
          "execution_count": 10
        }
      ]
    },
    {
      "cell_type": "code",
      "metadata": {
        "id": "5BKLI7uUGk-y"
      },
      "source": [
        "train_images = train_images.reshape((60000,28,28,1))"
      ],
      "execution_count": 11,
      "outputs": []
    },
    {
      "cell_type": "code",
      "metadata": {
        "id": "7bn9ZkPqH07k"
      },
      "source": [
        "test_images = test_images.reshape((10000,28,28,1))"
      ],
      "execution_count": 12,
      "outputs": []
    },
    {
      "cell_type": "code",
      "metadata": {
        "id": "AqBk54Q8FHUl"
      },
      "source": [
        "train_images = train_images.astype('float')/255\n",
        "test_images = test_images.astype('float')/255"
      ],
      "execution_count": 13,
      "outputs": []
    },
    {
      "cell_type": "code",
      "metadata": {
        "id": "YuLqQtBdIE5f"
      },
      "source": [
        "#now making the model \n",
        "model = keras.Sequential(name = \"fashion_mnist\")\n"
      ],
      "execution_count": 14,
      "outputs": []
    },
    {
      "cell_type": "code",
      "metadata": {
        "id": "-FL647ExIhrA",
        "outputId": "de3eb3f3-9dee-49fb-e643-6bb21340bd48",
        "colab": {
          "base_uri": "https://localhost:8080/"
        }
      },
      "source": [
        "# adding the layer one by one \n",
        "# First convolutional layer. \n",
        "# Number of neurons = 32\n",
        "# filter(kernel) size = 3x3\n",
        "# Activation function = Relu\n",
        "# input data (images) size (height, width, channels) = (28, 28, 1)\n",
        "# Channels is 'colors' here. Since fashion MNIST images are grayscale, number of colors = 1, hence, channels = 1\n",
        "model.add(layers.Conv2D(filters=256,strides=(1,1),kernel_size=(3,3),activation='relu',input_shape=(28,28,1)))\n",
        "#model.add(layers.Conv2D(filters=64,kernel_size=(3,3),activation = 'relu'))\n",
        "#adding the max pooling layer\n",
        "model.add(BatchNormalization())\n",
        "model.add(layers.MaxPooling2D((3,3)))\n",
        "#adding the droppout layer for more accuracy\n",
        "model.add(layers.Dropout(.5))\n",
        "model.add(layers.Conv2D(128,kernel_size=(3,3),activation='relu'))\n",
        "model.add(BatchNormalization())\n",
        "#adding the max pooling layer\n",
        "model.add(layers.MaxPooling2D((3,3)))\n",
        "#adding the droppout layer for more accuracy\n",
        "model.add(layers.Dropout(.5))\n",
        "model.add(layers.Flatten())\n",
        "#Creating the dense layer for further connection \n",
        "model.add(layers.Dense(1024,activation='relu',\n",
        "                       #kernel_regularizer=tf.keras.regularizers.l2(l2=0.0001)\n",
        "                       ))\n",
        "# Adding the last layer for the classification of the various items adding the softmax activation for the probability distribution \n",
        "model.add(layers.Dropout(.5))\n",
        "model.add(layers.Dense(512,activation='relu',\n",
        "                       #kernel_regularizer=tf.keras.regularizers.l2(l2=0.0001)\n",
        "                       ))\n",
        "model.add(layers.Dense(10, activation='softmax'))\n",
        "model.summary()"
      ],
      "execution_count": 15,
      "outputs": [
        {
          "output_type": "stream",
          "text": [
            "Model: \"fashion_mnist\"\n",
            "_________________________________________________________________\n",
            "Layer (type)                 Output Shape              Param #   \n",
            "=================================================================\n",
            "conv2d (Conv2D)              (None, 26, 26, 256)       2560      \n",
            "_________________________________________________________________\n",
            "max_pooling2d (MaxPooling2D) (None, 8, 8, 256)         0         \n",
            "_________________________________________________________________\n",
            "dropout (Dropout)            (None, 8, 8, 256)         0         \n",
            "_________________________________________________________________\n",
            "conv2d_1 (Conv2D)            (None, 6, 6, 128)         295040    \n",
            "_________________________________________________________________\n",
            "max_pooling2d_1 (MaxPooling2 (None, 2, 2, 128)         0         \n",
            "_________________________________________________________________\n",
            "dropout_1 (Dropout)          (None, 2, 2, 128)         0         \n",
            "_________________________________________________________________\n",
            "flatten (Flatten)            (None, 512)               0         \n",
            "_________________________________________________________________\n",
            "dense (Dense)                (None, 1024)              525312    \n",
            "_________________________________________________________________\n",
            "dropout_2 (Dropout)          (None, 1024)              0         \n",
            "_________________________________________________________________\n",
            "dense_1 (Dense)              (None, 512)               524800    \n",
            "_________________________________________________________________\n",
            "dense_2 (Dense)              (None, 10)                5130      \n",
            "=================================================================\n",
            "Total params: 1,352,842\n",
            "Trainable params: 1,352,842\n",
            "Non-trainable params: 0\n",
            "_________________________________________________________________\n"
          ],
          "name": "stdout"
        }
      ]
    },
    {
      "cell_type": "code",
      "metadata": {
        "id": "Q_YfAXYOEN4S"
      },
      "source": [
        "model.compile(optimizer='adam',\n",
        "              loss='sparse_categorical_crossentropy',\n",
        "              metrics=['accuracy'])\n",
        "#log_dir = \"logs/fit/\" + datetime.datetime.now().strftime(\"%Y%m%d-%H%M%S\")\n",
        "#tensorboard_callback = tf.keras.callbacks.TensorBoard(log_dir=log_dir, histogram_freq=1)\n",
        "#%tensorboard --logdir logs/fit"
      ],
      "execution_count": 16,
      "outputs": []
    },
    {
      "cell_type": "code",
      "metadata": {
        "id": "PjgMUNYhE44D",
        "outputId": "8f03b2f8-ba37-425f-ac0c-8ca70868cc28",
        "colab": {
          "base_uri": "https://localhost:8080/"
        }
      },
      "source": [
        "#now training the model by shuffeling and validating the data of 10%\n",
        "\n",
        "graph = model.fit(train_images,train_labels,epochs=40,batch_size =  512,shuffle = True,validation_split= 0.1)"
      ],
      "execution_count": 17,
      "outputs": [
        {
          "output_type": "stream",
          "text": [
            "Epoch 1/100\n",
            "106/106 [==============================] - 4s 42ms/step - loss: 0.9124 - accuracy: 0.6555 - val_loss: 0.5301 - val_accuracy: 0.8028\n",
            "Epoch 2/100\n",
            "106/106 [==============================] - 4s 40ms/step - loss: 0.5426 - accuracy: 0.7994 - val_loss: 0.4211 - val_accuracy: 0.8492\n",
            "Epoch 3/100\n",
            "106/106 [==============================] - 4s 39ms/step - loss: 0.4529 - accuracy: 0.8354 - val_loss: 0.3514 - val_accuracy: 0.8695\n",
            "Epoch 4/100\n",
            "106/106 [==============================] - 4s 39ms/step - loss: 0.4127 - accuracy: 0.8499 - val_loss: 0.3299 - val_accuracy: 0.8775\n",
            "Epoch 5/100\n",
            "106/106 [==============================] - 4s 39ms/step - loss: 0.3806 - accuracy: 0.8611 - val_loss: 0.3111 - val_accuracy: 0.8862\n",
            "Epoch 6/100\n",
            "106/106 [==============================] - 4s 39ms/step - loss: 0.3611 - accuracy: 0.8681 - val_loss: 0.2929 - val_accuracy: 0.8922\n",
            "Epoch 7/100\n",
            "106/106 [==============================] - 4s 39ms/step - loss: 0.3497 - accuracy: 0.8707 - val_loss: 0.2847 - val_accuracy: 0.8927\n",
            "Epoch 8/100\n",
            "106/106 [==============================] - 4s 39ms/step - loss: 0.3356 - accuracy: 0.8764 - val_loss: 0.2899 - val_accuracy: 0.8910\n",
            "Epoch 9/100\n",
            "106/106 [==============================] - 4s 39ms/step - loss: 0.3266 - accuracy: 0.8783 - val_loss: 0.2859 - val_accuracy: 0.8910\n",
            "Epoch 10/100\n",
            "106/106 [==============================] - 4s 39ms/step - loss: 0.3224 - accuracy: 0.8817 - val_loss: 0.2809 - val_accuracy: 0.8918\n",
            "Epoch 11/100\n",
            "106/106 [==============================] - 4s 39ms/step - loss: 0.3138 - accuracy: 0.8849 - val_loss: 0.2579 - val_accuracy: 0.9012\n",
            "Epoch 12/100\n",
            "106/106 [==============================] - 4s 39ms/step - loss: 0.3024 - accuracy: 0.8871 - val_loss: 0.2585 - val_accuracy: 0.9013\n",
            "Epoch 13/100\n",
            "106/106 [==============================] - 4s 39ms/step - loss: 0.2972 - accuracy: 0.8887 - val_loss: 0.2556 - val_accuracy: 0.9023\n",
            "Epoch 14/100\n",
            "106/106 [==============================] - 4s 39ms/step - loss: 0.2981 - accuracy: 0.8904 - val_loss: 0.2639 - val_accuracy: 0.9012\n",
            "Epoch 15/100\n",
            "106/106 [==============================] - 4s 39ms/step - loss: 0.2912 - accuracy: 0.8925 - val_loss: 0.2640 - val_accuracy: 0.8995\n",
            "Epoch 16/100\n",
            "106/106 [==============================] - 4s 39ms/step - loss: 0.2865 - accuracy: 0.8931 - val_loss: 0.2547 - val_accuracy: 0.9030\n",
            "Epoch 17/100\n",
            "106/106 [==============================] - 4s 39ms/step - loss: 0.2802 - accuracy: 0.8947 - val_loss: 0.2430 - val_accuracy: 0.9088\n",
            "Epoch 18/100\n",
            "106/106 [==============================] - 4s 39ms/step - loss: 0.2812 - accuracy: 0.8941 - val_loss: 0.2410 - val_accuracy: 0.9048\n",
            "Epoch 19/100\n",
            "106/106 [==============================] - 4s 39ms/step - loss: 0.2776 - accuracy: 0.8972 - val_loss: 0.2399 - val_accuracy: 0.9090\n",
            "Epoch 20/100\n",
            "106/106 [==============================] - 4s 39ms/step - loss: 0.2736 - accuracy: 0.8971 - val_loss: 0.2350 - val_accuracy: 0.9137\n",
            "Epoch 21/100\n",
            "106/106 [==============================] - 4s 39ms/step - loss: 0.2716 - accuracy: 0.8996 - val_loss: 0.2378 - val_accuracy: 0.9110\n",
            "Epoch 22/100\n",
            "106/106 [==============================] - 4s 39ms/step - loss: 0.2657 - accuracy: 0.9020 - val_loss: 0.2344 - val_accuracy: 0.9140\n",
            "Epoch 23/100\n",
            "106/106 [==============================] - 4s 39ms/step - loss: 0.2646 - accuracy: 0.9011 - val_loss: 0.2298 - val_accuracy: 0.9135\n",
            "Epoch 24/100\n",
            "106/106 [==============================] - 4s 39ms/step - loss: 0.2623 - accuracy: 0.9015 - val_loss: 0.2271 - val_accuracy: 0.9130\n",
            "Epoch 25/100\n",
            "106/106 [==============================] - 4s 39ms/step - loss: 0.2587 - accuracy: 0.9022 - val_loss: 0.2395 - val_accuracy: 0.9095\n",
            "Epoch 26/100\n",
            "106/106 [==============================] - 4s 39ms/step - loss: 0.2591 - accuracy: 0.9030 - val_loss: 0.2279 - val_accuracy: 0.9138\n",
            "Epoch 27/100\n",
            "106/106 [==============================] - 4s 39ms/step - loss: 0.2511 - accuracy: 0.9058 - val_loss: 0.2256 - val_accuracy: 0.9158\n",
            "Epoch 28/100\n",
            "106/106 [==============================] - 4s 39ms/step - loss: 0.2536 - accuracy: 0.9049 - val_loss: 0.2271 - val_accuracy: 0.9158\n",
            "Epoch 29/100\n",
            "106/106 [==============================] - 4s 39ms/step - loss: 0.2491 - accuracy: 0.9056 - val_loss: 0.2272 - val_accuracy: 0.9158\n",
            "Epoch 30/100\n",
            "106/106 [==============================] - 4s 39ms/step - loss: 0.2478 - accuracy: 0.9078 - val_loss: 0.2230 - val_accuracy: 0.9170\n",
            "Epoch 31/100\n",
            "106/106 [==============================] - 4s 39ms/step - loss: 0.2468 - accuracy: 0.9059 - val_loss: 0.2243 - val_accuracy: 0.9172\n",
            "Epoch 32/100\n",
            "106/106 [==============================] - 4s 39ms/step - loss: 0.2440 - accuracy: 0.9075 - val_loss: 0.2266 - val_accuracy: 0.9145\n",
            "Epoch 33/100\n",
            "106/106 [==============================] - 4s 39ms/step - loss: 0.2463 - accuracy: 0.9075 - val_loss: 0.2178 - val_accuracy: 0.9182\n",
            "Epoch 34/100\n",
            "106/106 [==============================] - 4s 39ms/step - loss: 0.2402 - accuracy: 0.9093 - val_loss: 0.2223 - val_accuracy: 0.9172\n",
            "Epoch 35/100\n",
            "106/106 [==============================] - 4s 39ms/step - loss: 0.2404 - accuracy: 0.9088 - val_loss: 0.2207 - val_accuracy: 0.9172\n",
            "Epoch 36/100\n",
            "106/106 [==============================] - 4s 39ms/step - loss: 0.2369 - accuracy: 0.9115 - val_loss: 0.2200 - val_accuracy: 0.9203\n",
            "Epoch 37/100\n",
            "106/106 [==============================] - 4s 39ms/step - loss: 0.2354 - accuracy: 0.9100 - val_loss: 0.2159 - val_accuracy: 0.9185\n",
            "Epoch 38/100\n",
            "106/106 [==============================] - 4s 39ms/step - loss: 0.2370 - accuracy: 0.9100 - val_loss: 0.2191 - val_accuracy: 0.9178\n",
            "Epoch 39/100\n",
            "106/106 [==============================] - 4s 39ms/step - loss: 0.2324 - accuracy: 0.9123 - val_loss: 0.2217 - val_accuracy: 0.9158\n",
            "Epoch 40/100\n",
            "106/106 [==============================] - 4s 39ms/step - loss: 0.2305 - accuracy: 0.9128 - val_loss: 0.2126 - val_accuracy: 0.9227\n",
            "Epoch 41/100\n",
            "106/106 [==============================] - 4s 39ms/step - loss: 0.2320 - accuracy: 0.9129 - val_loss: 0.2124 - val_accuracy: 0.9222\n",
            "Epoch 42/100\n",
            "106/106 [==============================] - 4s 39ms/step - loss: 0.2281 - accuracy: 0.9137 - val_loss: 0.2173 - val_accuracy: 0.9192\n",
            "Epoch 43/100\n",
            "106/106 [==============================] - 4s 39ms/step - loss: 0.2252 - accuracy: 0.9150 - val_loss: 0.2179 - val_accuracy: 0.9175\n",
            "Epoch 44/100\n",
            "106/106 [==============================] - 4s 39ms/step - loss: 0.2226 - accuracy: 0.9152 - val_loss: 0.2160 - val_accuracy: 0.9202\n",
            "Epoch 45/100\n",
            "106/106 [==============================] - 4s 39ms/step - loss: 0.2247 - accuracy: 0.9153 - val_loss: 0.2081 - val_accuracy: 0.9232\n",
            "Epoch 46/100\n",
            "106/106 [==============================] - 4s 39ms/step - loss: 0.2220 - accuracy: 0.9152 - val_loss: 0.2068 - val_accuracy: 0.9208\n",
            "Epoch 47/100\n",
            "106/106 [==============================] - 4s 39ms/step - loss: 0.2236 - accuracy: 0.9168 - val_loss: 0.2096 - val_accuracy: 0.9217\n",
            "Epoch 48/100\n",
            "106/106 [==============================] - 4s 39ms/step - loss: 0.2209 - accuracy: 0.9166 - val_loss: 0.2092 - val_accuracy: 0.9215\n",
            "Epoch 49/100\n",
            "106/106 [==============================] - 4s 39ms/step - loss: 0.2186 - accuracy: 0.9170 - val_loss: 0.2114 - val_accuracy: 0.9218\n",
            "Epoch 50/100\n",
            "106/106 [==============================] - 4s 39ms/step - loss: 0.2185 - accuracy: 0.9174 - val_loss: 0.2069 - val_accuracy: 0.9225\n",
            "Epoch 51/100\n",
            "106/106 [==============================] - 4s 39ms/step - loss: 0.2198 - accuracy: 0.9165 - val_loss: 0.2145 - val_accuracy: 0.9202\n",
            "Epoch 52/100\n",
            "106/106 [==============================] - 4s 39ms/step - loss: 0.2148 - accuracy: 0.9186 - val_loss: 0.2101 - val_accuracy: 0.9223\n",
            "Epoch 53/100\n",
            "106/106 [==============================] - 4s 39ms/step - loss: 0.2150 - accuracy: 0.9181 - val_loss: 0.2292 - val_accuracy: 0.9133\n",
            "Epoch 54/100\n",
            "106/106 [==============================] - 4s 39ms/step - loss: 0.2167 - accuracy: 0.9169 - val_loss: 0.2088 - val_accuracy: 0.9198\n",
            "Epoch 55/100\n",
            "106/106 [==============================] - 4s 39ms/step - loss: 0.2150 - accuracy: 0.9181 - val_loss: 0.2097 - val_accuracy: 0.9238\n",
            "Epoch 56/100\n",
            "106/106 [==============================] - 4s 39ms/step - loss: 0.2096 - accuracy: 0.9201 - val_loss: 0.2059 - val_accuracy: 0.9222\n",
            "Epoch 57/100\n",
            "106/106 [==============================] - 4s 39ms/step - loss: 0.2099 - accuracy: 0.9214 - val_loss: 0.2048 - val_accuracy: 0.9222\n",
            "Epoch 58/100\n",
            "106/106 [==============================] - 4s 39ms/step - loss: 0.2085 - accuracy: 0.9214 - val_loss: 0.2086 - val_accuracy: 0.9213\n",
            "Epoch 59/100\n",
            "106/106 [==============================] - 4s 39ms/step - loss: 0.2123 - accuracy: 0.9196 - val_loss: 0.2083 - val_accuracy: 0.9240\n",
            "Epoch 60/100\n",
            "106/106 [==============================] - 4s 39ms/step - loss: 0.2077 - accuracy: 0.9203 - val_loss: 0.2091 - val_accuracy: 0.9207\n",
            "Epoch 61/100\n",
            "106/106 [==============================] - 4s 39ms/step - loss: 0.2064 - accuracy: 0.9215 - val_loss: 0.2180 - val_accuracy: 0.9195\n",
            "Epoch 62/100\n",
            "106/106 [==============================] - 4s 39ms/step - loss: 0.2066 - accuracy: 0.9223 - val_loss: 0.2107 - val_accuracy: 0.9203\n",
            "Epoch 63/100\n",
            "106/106 [==============================] - 4s 39ms/step - loss: 0.2053 - accuracy: 0.9220 - val_loss: 0.2155 - val_accuracy: 0.9153\n",
            "Epoch 64/100\n",
            "106/106 [==============================] - 4s 40ms/step - loss: 0.2011 - accuracy: 0.9241 - val_loss: 0.2041 - val_accuracy: 0.9235\n",
            "Epoch 65/100\n",
            "106/106 [==============================] - 4s 39ms/step - loss: 0.2010 - accuracy: 0.9228 - val_loss: 0.2039 - val_accuracy: 0.9230\n",
            "Epoch 66/100\n",
            "106/106 [==============================] - 4s 39ms/step - loss: 0.2029 - accuracy: 0.9213 - val_loss: 0.2037 - val_accuracy: 0.9247\n",
            "Epoch 67/100\n",
            "106/106 [==============================] - 4s 39ms/step - loss: 0.2042 - accuracy: 0.9213 - val_loss: 0.2059 - val_accuracy: 0.9220\n",
            "Epoch 68/100\n",
            "106/106 [==============================] - 4s 39ms/step - loss: 0.2016 - accuracy: 0.9231 - val_loss: 0.2075 - val_accuracy: 0.9213\n",
            "Epoch 69/100\n",
            "106/106 [==============================] - 4s 39ms/step - loss: 0.1973 - accuracy: 0.9247 - val_loss: 0.2072 - val_accuracy: 0.9215\n",
            "Epoch 70/100\n",
            "106/106 [==============================] - 4s 39ms/step - loss: 0.1973 - accuracy: 0.9253 - val_loss: 0.2082 - val_accuracy: 0.9220\n",
            "Epoch 71/100\n",
            "106/106 [==============================] - 4s 39ms/step - loss: 0.1988 - accuracy: 0.9236 - val_loss: 0.2100 - val_accuracy: 0.9195\n",
            "Epoch 72/100\n",
            "106/106 [==============================] - 4s 39ms/step - loss: 0.1986 - accuracy: 0.9246 - val_loss: 0.2031 - val_accuracy: 0.9258\n",
            "Epoch 73/100\n",
            "106/106 [==============================] - 4s 39ms/step - loss: 0.1952 - accuracy: 0.9264 - val_loss: 0.2023 - val_accuracy: 0.9235\n",
            "Epoch 74/100\n",
            "106/106 [==============================] - 4s 39ms/step - loss: 0.1958 - accuracy: 0.9248 - val_loss: 0.2003 - val_accuracy: 0.9253\n",
            "Epoch 75/100\n",
            "106/106 [==============================] - 4s 39ms/step - loss: 0.1969 - accuracy: 0.9249 - val_loss: 0.2050 - val_accuracy: 0.9243\n",
            "Epoch 76/100\n",
            "106/106 [==============================] - 4s 39ms/step - loss: 0.1972 - accuracy: 0.9253 - val_loss: 0.2046 - val_accuracy: 0.9233\n",
            "Epoch 77/100\n",
            "106/106 [==============================] - 4s 39ms/step - loss: 0.1932 - accuracy: 0.9269 - val_loss: 0.1989 - val_accuracy: 0.9263\n",
            "Epoch 78/100\n",
            "106/106 [==============================] - 4s 39ms/step - loss: 0.1926 - accuracy: 0.9259 - val_loss: 0.2084 - val_accuracy: 0.9228\n",
            "Epoch 79/100\n",
            "106/106 [==============================] - 4s 39ms/step - loss: 0.1910 - accuracy: 0.9262 - val_loss: 0.2106 - val_accuracy: 0.9208\n",
            "Epoch 80/100\n",
            "106/106 [==============================] - 4s 39ms/step - loss: 0.1912 - accuracy: 0.9268 - val_loss: 0.2082 - val_accuracy: 0.9225\n",
            "Epoch 81/100\n",
            "106/106 [==============================] - 4s 39ms/step - loss: 0.1901 - accuracy: 0.9273 - val_loss: 0.2046 - val_accuracy: 0.9237\n",
            "Epoch 82/100\n",
            "106/106 [==============================] - 4s 39ms/step - loss: 0.1894 - accuracy: 0.9282 - val_loss: 0.2110 - val_accuracy: 0.9217\n",
            "Epoch 83/100\n",
            "106/106 [==============================] - 4s 39ms/step - loss: 0.1907 - accuracy: 0.9269 - val_loss: 0.2001 - val_accuracy: 0.9252\n",
            "Epoch 84/100\n",
            "106/106 [==============================] - 4s 39ms/step - loss: 0.1859 - accuracy: 0.9280 - val_loss: 0.2045 - val_accuracy: 0.9240\n",
            "Epoch 85/100\n",
            "106/106 [==============================] - 4s 39ms/step - loss: 0.1880 - accuracy: 0.9291 - val_loss: 0.2120 - val_accuracy: 0.9212\n",
            "Epoch 86/100\n",
            "106/106 [==============================] - 4s 39ms/step - loss: 0.1915 - accuracy: 0.9274 - val_loss: 0.1999 - val_accuracy: 0.9230\n",
            "Epoch 87/100\n",
            "106/106 [==============================] - 4s 39ms/step - loss: 0.1878 - accuracy: 0.9281 - val_loss: 0.2088 - val_accuracy: 0.9207\n",
            "Epoch 88/100\n",
            "106/106 [==============================] - 4s 39ms/step - loss: 0.1839 - accuracy: 0.9286 - val_loss: 0.2046 - val_accuracy: 0.9235\n",
            "Epoch 89/100\n",
            "106/106 [==============================] - 4s 39ms/step - loss: 0.1825 - accuracy: 0.9303 - val_loss: 0.2093 - val_accuracy: 0.9175\n",
            "Epoch 90/100\n",
            "106/106 [==============================] - 4s 39ms/step - loss: 0.1856 - accuracy: 0.9287 - val_loss: 0.2005 - val_accuracy: 0.9238\n",
            "Epoch 91/100\n",
            "106/106 [==============================] - 4s 39ms/step - loss: 0.1841 - accuracy: 0.9299 - val_loss: 0.2031 - val_accuracy: 0.9242\n",
            "Epoch 92/100\n",
            "106/106 [==============================] - 4s 39ms/step - loss: 0.1812 - accuracy: 0.9302 - val_loss: 0.2046 - val_accuracy: 0.9257\n",
            "Epoch 93/100\n",
            "106/106 [==============================] - 4s 39ms/step - loss: 0.1823 - accuracy: 0.9311 - val_loss: 0.2125 - val_accuracy: 0.9195\n",
            "Epoch 94/100\n",
            "106/106 [==============================] - 4s 39ms/step - loss: 0.1839 - accuracy: 0.9299 - val_loss: 0.2010 - val_accuracy: 0.9238\n",
            "Epoch 95/100\n",
            "106/106 [==============================] - 4s 39ms/step - loss: 0.1855 - accuracy: 0.9282 - val_loss: 0.2080 - val_accuracy: 0.9232\n",
            "Epoch 96/100\n",
            "106/106 [==============================] - 4s 39ms/step - loss: 0.1818 - accuracy: 0.9315 - val_loss: 0.2041 - val_accuracy: 0.9268\n",
            "Epoch 97/100\n",
            "106/106 [==============================] - 4s 39ms/step - loss: 0.1816 - accuracy: 0.9310 - val_loss: 0.2038 - val_accuracy: 0.9238\n",
            "Epoch 98/100\n",
            "106/106 [==============================] - 4s 39ms/step - loss: 0.1820 - accuracy: 0.9301 - val_loss: 0.2026 - val_accuracy: 0.9243\n",
            "Epoch 99/100\n",
            "106/106 [==============================] - 4s 39ms/step - loss: 0.1789 - accuracy: 0.9307 - val_loss: 0.1995 - val_accuracy: 0.9267\n",
            "Epoch 100/100\n",
            "106/106 [==============================] - 4s 39ms/step - loss: 0.1812 - accuracy: 0.9309 - val_loss: 0.2050 - val_accuracy: 0.9255\n"
          ],
          "name": "stdout"
        }
      ]
    },
    {
      "cell_type": "code",
      "metadata": {
        "id": "0BxenOoFE4s4",
        "outputId": "bd638685-f4ed-4810-93ad-3d7ad647641f",
        "colab": {
          "base_uri": "https://localhost:8080/"
        }
      },
      "source": [
        "test_loss, test_accuracy = model.evaluate(test_images,test_labels)"
      ],
      "execution_count": 18,
      "outputs": [
        {
          "output_type": "stream",
          "text": [
            "313/313 [==============================] - 1s 3ms/step - loss: 0.2245 - accuracy: 0.9203\n"
          ],
          "name": "stdout"
        }
      ]
    },
    {
      "cell_type": "code",
      "metadata": {
        "id": "RN9H0pxDHhxn",
        "outputId": "7f0f5e95-b86f-466d-91d1-6abdaab26677",
        "colab": {
          "base_uri": "https://localhost:8080/"
        }
      },
      "source": [
        "print(graph.history.keys())"
      ],
      "execution_count": 19,
      "outputs": [
        {
          "output_type": "stream",
          "text": [
            "dict_keys(['loss', 'accuracy', 'val_loss', 'val_accuracy'])\n"
          ],
          "name": "stdout"
        }
      ]
    },
    {
      "cell_type": "code",
      "metadata": {
        "id": "ZjmWcb3nQO4G",
        "outputId": "2d22b68e-ef44-46b1-bd50-33708a35bf99",
        "colab": {
          "base_uri": "https://localhost:8080/",
          "height": 320
        }
      },
      "source": [
        "fig, axes = plt.subplots(1,2,figsize=(20,5))\n",
        "axes[0].plot(graph.history['loss'],color = 'red',label=\"loss\")\n",
        "axes[0].plot(graph.history['val_loss'],color ='blue',label=\"validation loss\")\n",
        "axes[1].plot(graph.history['accuracy'],label= \"accuracy\")\n",
        "axes[1].plot(graph.history['val_accuracy'],label=\"validation accuracy\")\n",
        "axes[0].legend()\n",
        "axes[1].legend()\n",
        "fig.show()"
      ],
      "execution_count": 20,
      "outputs": [
        {
          "output_type": "display_data",
          "data": {
            "image/png": "[encoded data removed]",
            "text/plain": [
              "<Figure size 1440x360 with 2 Axes>"
            ]
          },
          "metadata": {
            "tags": [],
            "needs_background": "light"
          }
        }
      ]
    },
    {
      "cell_type": "code",
      "metadata": {
        "id": "Tv-_uZefQ936"
      },
      "source": [
        ""
      ],
      "execution_count": 20,
      "outputs": []
    },
    {
      "cell_type": "code",
      "metadata": {
        "id": "hMaeZxlPkeNf"
      },
      "source": [
        ""
      ],
      "execution_count": null,
      "outputs": []
    }
  ]
}